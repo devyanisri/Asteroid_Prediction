{
 "cells": [
  {
   "cell_type": "code",
   "execution_count": 1,
   "id": "5bdabc01",
   "metadata": {},
   "outputs": [],
   "source": [
    "import pandas as pd\n",
    "import numpy as np\n",
    "from sklearn.svm import SVC\n",
    "#from sklearn.pipeline import Pipeline\n",
    "from sklearn.preprocessing import LabelEncoder\n",
    "from sklearn.preprocessing import StandardScaler\n",
    "from sklearn.model_selection import train_test_split, GridSearchCV\n",
    "import matplotlib.pyplot as plt\n",
    "import seaborn as sns\n",
    "#import missingno as msno\n",
    "from sklearn.metrics import confusion_matrix \n",
    "from sklearn.metrics import accuracy_score\n",
    "from sklearn.preprocessing import OneHotEncoder, RobustScaler, LabelEncoder\n",
    "import warnings\n",
    "warnings.filterwarnings(\"ignore\")"
   ]
  },
  {
   "cell_type": "code",
   "execution_count": 2,
   "id": "b7dc0f29",
   "metadata": {},
   "outputs": [
    {
     "data": {
      "text/html": [
       "<div>\n",
       "<style scoped>\n",
       "    .dataframe tbody tr th:only-of-type {\n",
       "        vertical-align: middle;\n",
       "    }\n",
       "\n",
       "    .dataframe tbody tr th {\n",
       "        vertical-align: top;\n",
       "    }\n",
       "\n",
       "    .dataframe thead th {\n",
       "        text-align: right;\n",
       "    }\n",
       "</style>\n",
       "<table border=\"1\" class=\"dataframe\">\n",
       "  <thead>\n",
       "    <tr style=\"text-align: right;\">\n",
       "      <th></th>\n",
       "      <th>Neo Reference ID</th>\n",
       "      <th>Name</th>\n",
       "      <th>Absolute Magnitude</th>\n",
       "      <th>Est Dia in KM(min)</th>\n",
       "      <th>Est Dia in KM(max)</th>\n",
       "      <th>Est Dia in M(min)</th>\n",
       "      <th>Est Dia in M(max)</th>\n",
       "      <th>Est Dia in Miles(min)</th>\n",
       "      <th>Est Dia in Miles(max)</th>\n",
       "      <th>Est Dia in Feet(min)</th>\n",
       "      <th>...</th>\n",
       "      <th>Asc Node Longitude</th>\n",
       "      <th>Orbital Period</th>\n",
       "      <th>Perihelion Distance</th>\n",
       "      <th>Perihelion Arg</th>\n",
       "      <th>Aphelion Dist</th>\n",
       "      <th>Perihelion Time</th>\n",
       "      <th>Mean Anomaly</th>\n",
       "      <th>Mean Motion</th>\n",
       "      <th>Equinox</th>\n",
       "      <th>Hazardous</th>\n",
       "    </tr>\n",
       "  </thead>\n",
       "  <tbody>\n",
       "    <tr>\n",
       "      <th>0</th>\n",
       "      <td>3703080</td>\n",
       "      <td>3703080</td>\n",
       "      <td>21.6</td>\n",
       "      <td>0.127220</td>\n",
       "      <td>0.284472</td>\n",
       "      <td>127.219879</td>\n",
       "      <td>284.472297</td>\n",
       "      <td>0.079051</td>\n",
       "      <td>0.176763</td>\n",
       "      <td>417.388066</td>\n",
       "      <td>...</td>\n",
       "      <td>314.373913</td>\n",
       "      <td>609.599786</td>\n",
       "      <td>0.808259</td>\n",
       "      <td>57.257470</td>\n",
       "      <td>2.005764</td>\n",
       "      <td>2.458162e+06</td>\n",
       "      <td>264.837533</td>\n",
       "      <td>0.590551</td>\n",
       "      <td>J2000</td>\n",
       "      <td>True</td>\n",
       "    </tr>\n",
       "    <tr>\n",
       "      <th>1</th>\n",
       "      <td>3723955</td>\n",
       "      <td>3723955</td>\n",
       "      <td>21.3</td>\n",
       "      <td>0.146068</td>\n",
       "      <td>0.326618</td>\n",
       "      <td>146.067964</td>\n",
       "      <td>326.617897</td>\n",
       "      <td>0.090762</td>\n",
       "      <td>0.202951</td>\n",
       "      <td>479.225620</td>\n",
       "      <td>...</td>\n",
       "      <td>136.717242</td>\n",
       "      <td>425.869294</td>\n",
       "      <td>0.718200</td>\n",
       "      <td>313.091975</td>\n",
       "      <td>1.497352</td>\n",
       "      <td>2.457795e+06</td>\n",
       "      <td>173.741112</td>\n",
       "      <td>0.845330</td>\n",
       "      <td>J2000</td>\n",
       "      <td>False</td>\n",
       "    </tr>\n",
       "    <tr>\n",
       "      <th>2</th>\n",
       "      <td>2446862</td>\n",
       "      <td>2446862</td>\n",
       "      <td>20.3</td>\n",
       "      <td>0.231502</td>\n",
       "      <td>0.517654</td>\n",
       "      <td>231.502122</td>\n",
       "      <td>517.654482</td>\n",
       "      <td>0.143849</td>\n",
       "      <td>0.321655</td>\n",
       "      <td>759.521423</td>\n",
       "      <td>...</td>\n",
       "      <td>259.475979</td>\n",
       "      <td>643.580228</td>\n",
       "      <td>0.950791</td>\n",
       "      <td>248.415038</td>\n",
       "      <td>1.966857</td>\n",
       "      <td>2.458120e+06</td>\n",
       "      <td>292.893654</td>\n",
       "      <td>0.559371</td>\n",
       "      <td>J2000</td>\n",
       "      <td>True</td>\n",
       "    </tr>\n",
       "    <tr>\n",
       "      <th>3</th>\n",
       "      <td>3092506</td>\n",
       "      <td>3092506</td>\n",
       "      <td>27.4</td>\n",
       "      <td>0.008801</td>\n",
       "      <td>0.019681</td>\n",
       "      <td>8.801465</td>\n",
       "      <td>19.680675</td>\n",
       "      <td>0.005469</td>\n",
       "      <td>0.012229</td>\n",
       "      <td>28.876199</td>\n",
       "      <td>...</td>\n",
       "      <td>57.173266</td>\n",
       "      <td>514.082140</td>\n",
       "      <td>0.983902</td>\n",
       "      <td>18.707701</td>\n",
       "      <td>1.527904</td>\n",
       "      <td>2.457902e+06</td>\n",
       "      <td>68.741007</td>\n",
       "      <td>0.700277</td>\n",
       "      <td>J2000</td>\n",
       "      <td>False</td>\n",
       "    </tr>\n",
       "    <tr>\n",
       "      <th>4</th>\n",
       "      <td>3514799</td>\n",
       "      <td>3514799</td>\n",
       "      <td>21.6</td>\n",
       "      <td>0.127220</td>\n",
       "      <td>0.284472</td>\n",
       "      <td>127.219879</td>\n",
       "      <td>284.472297</td>\n",
       "      <td>0.079051</td>\n",
       "      <td>0.176763</td>\n",
       "      <td>417.388066</td>\n",
       "      <td>...</td>\n",
       "      <td>84.629307</td>\n",
       "      <td>495.597821</td>\n",
       "      <td>0.967687</td>\n",
       "      <td>158.263596</td>\n",
       "      <td>1.483543</td>\n",
       "      <td>2.457814e+06</td>\n",
       "      <td>135.142133</td>\n",
       "      <td>0.726395</td>\n",
       "      <td>J2000</td>\n",
       "      <td>True</td>\n",
       "    </tr>\n",
       "  </tbody>\n",
       "</table>\n",
       "<p>5 rows × 40 columns</p>\n",
       "</div>"
      ],
      "text/plain": [
       "   Neo Reference ID     Name  Absolute Magnitude  Est Dia in KM(min)  \\\n",
       "0           3703080  3703080                21.6            0.127220   \n",
       "1           3723955  3723955                21.3            0.146068   \n",
       "2           2446862  2446862                20.3            0.231502   \n",
       "3           3092506  3092506                27.4            0.008801   \n",
       "4           3514799  3514799                21.6            0.127220   \n",
       "\n",
       "   Est Dia in KM(max)  Est Dia in M(min)  Est Dia in M(max)  \\\n",
       "0            0.284472         127.219879         284.472297   \n",
       "1            0.326618         146.067964         326.617897   \n",
       "2            0.517654         231.502122         517.654482   \n",
       "3            0.019681           8.801465          19.680675   \n",
       "4            0.284472         127.219879         284.472297   \n",
       "\n",
       "   Est Dia in Miles(min)  Est Dia in Miles(max)  Est Dia in Feet(min)  ...  \\\n",
       "0               0.079051               0.176763            417.388066  ...   \n",
       "1               0.090762               0.202951            479.225620  ...   \n",
       "2               0.143849               0.321655            759.521423  ...   \n",
       "3               0.005469               0.012229             28.876199  ...   \n",
       "4               0.079051               0.176763            417.388066  ...   \n",
       "\n",
       "   Asc Node Longitude Orbital Period  Perihelion Distance  Perihelion Arg  \\\n",
       "0          314.373913     609.599786             0.808259       57.257470   \n",
       "1          136.717242     425.869294             0.718200      313.091975   \n",
       "2          259.475979     643.580228             0.950791      248.415038   \n",
       "3           57.173266     514.082140             0.983902       18.707701   \n",
       "4           84.629307     495.597821             0.967687      158.263596   \n",
       "\n",
       "   Aphelion Dist  Perihelion Time  Mean Anomaly  Mean Motion  Equinox  \\\n",
       "0       2.005764     2.458162e+06    264.837533     0.590551    J2000   \n",
       "1       1.497352     2.457795e+06    173.741112     0.845330    J2000   \n",
       "2       1.966857     2.458120e+06    292.893654     0.559371    J2000   \n",
       "3       1.527904     2.457902e+06     68.741007     0.700277    J2000   \n",
       "4       1.483543     2.457814e+06    135.142133     0.726395    J2000   \n",
       "\n",
       "   Hazardous  \n",
       "0       True  \n",
       "1      False  \n",
       "2       True  \n",
       "3      False  \n",
       "4       True  \n",
       "\n",
       "[5 rows x 40 columns]"
      ]
     },
     "execution_count": 2,
     "metadata": {},
     "output_type": "execute_result"
    }
   ],
   "source": [
    "df=pd.read_csv('nasa.csv')\n",
    "df.head()"
   ]
  },
  {
   "cell_type": "code",
   "execution_count": 3,
   "id": "876defb6",
   "metadata": {},
   "outputs": [
    {
     "data": {
      "text/plain": [
       "(4687, 40)"
      ]
     },
     "execution_count": 3,
     "metadata": {},
     "output_type": "execute_result"
    }
   ],
   "source": [
    "df.shape"
   ]
  },
  {
   "cell_type": "code",
   "execution_count": 4,
   "id": "caa3e482",
   "metadata": {},
   "outputs": [
    {
     "name": "stdout",
     "output_type": "stream",
     "text": [
      "<class 'pandas.core.frame.DataFrame'>\n",
      "RangeIndex: 4687 entries, 0 to 4686\n",
      "Data columns (total 40 columns):\n",
      " #   Column                        Non-Null Count  Dtype  \n",
      "---  ------                        --------------  -----  \n",
      " 0   Neo Reference ID              4687 non-null   int64  \n",
      " 1   Name                          4687 non-null   int64  \n",
      " 2   Absolute Magnitude            4687 non-null   float64\n",
      " 3   Est Dia in KM(min)            4687 non-null   float64\n",
      " 4   Est Dia in KM(max)            4687 non-null   float64\n",
      " 5   Est Dia in M(min)             4687 non-null   float64\n",
      " 6   Est Dia in M(max)             4687 non-null   float64\n",
      " 7   Est Dia in Miles(min)         4687 non-null   float64\n",
      " 8   Est Dia in Miles(max)         4687 non-null   float64\n",
      " 9   Est Dia in Feet(min)          4687 non-null   float64\n",
      " 10  Est Dia in Feet(max)          4687 non-null   float64\n",
      " 11  Close Approach Date           4687 non-null   object \n",
      " 12  Epoch Date Close Approach     4687 non-null   int64  \n",
      " 13  Relative Velocity km per sec  4687 non-null   float64\n",
      " 14  Relative Velocity km per hr   4687 non-null   float64\n",
      " 15  Miles per hour                4687 non-null   float64\n",
      " 16  Miss Dist.(Astronomical)      4687 non-null   float64\n",
      " 17  Miss Dist.(lunar)             4687 non-null   float64\n",
      " 18  Miss Dist.(kilometers)        4687 non-null   float64\n",
      " 19  Miss Dist.(miles)             4687 non-null   float64\n",
      " 20  Orbiting Body                 4687 non-null   object \n",
      " 21  Orbit ID                      4687 non-null   int64  \n",
      " 22  Orbit Determination Date      4687 non-null   object \n",
      " 23  Orbit Uncertainity            4687 non-null   int64  \n",
      " 24  Minimum Orbit Intersection    4687 non-null   float64\n",
      " 25  Jupiter Tisserand Invariant   4687 non-null   float64\n",
      " 26  Epoch Osculation              4687 non-null   float64\n",
      " 27  Eccentricity                  4687 non-null   float64\n",
      " 28  Semi Major Axis               4687 non-null   float64\n",
      " 29  Inclination                   4687 non-null   float64\n",
      " 30  Asc Node Longitude            4687 non-null   float64\n",
      " 31  Orbital Period                4687 non-null   float64\n",
      " 32  Perihelion Distance           4687 non-null   float64\n",
      " 33  Perihelion Arg                4687 non-null   float64\n",
      " 34  Aphelion Dist                 4687 non-null   float64\n",
      " 35  Perihelion Time               4687 non-null   float64\n",
      " 36  Mean Anomaly                  4687 non-null   float64\n",
      " 37  Mean Motion                   4687 non-null   float64\n",
      " 38  Equinox                       4687 non-null   object \n",
      " 39  Hazardous                     4687 non-null   bool   \n",
      "dtypes: bool(1), float64(30), int64(5), object(4)\n",
      "memory usage: 1.4+ MB\n"
     ]
    }
   ],
   "source": [
    "df.info()"
   ]
  },
  {
   "cell_type": "code",
   "execution_count": 5,
   "id": "19ad6977",
   "metadata": {},
   "outputs": [
    {
     "data": {
      "text/html": [
       "<div>\n",
       "<style scoped>\n",
       "    .dataframe tbody tr th:only-of-type {\n",
       "        vertical-align: middle;\n",
       "    }\n",
       "\n",
       "    .dataframe tbody tr th {\n",
       "        vertical-align: top;\n",
       "    }\n",
       "\n",
       "    .dataframe thead th {\n",
       "        text-align: right;\n",
       "    }\n",
       "</style>\n",
       "<table border=\"1\" class=\"dataframe\">\n",
       "  <thead>\n",
       "    <tr style=\"text-align: right;\">\n",
       "      <th></th>\n",
       "      <th>count</th>\n",
       "      <th>mean</th>\n",
       "      <th>std</th>\n",
       "      <th>min</th>\n",
       "      <th>25%</th>\n",
       "      <th>50%</th>\n",
       "      <th>75%</th>\n",
       "      <th>max</th>\n",
       "    </tr>\n",
       "  </thead>\n",
       "  <tbody>\n",
       "    <tr>\n",
       "      <th>Neo Reference ID</th>\n",
       "      <td>4687.0</td>\n",
       "      <td>3.272298e+06</td>\n",
       "      <td>5.486011e+05</td>\n",
       "      <td>2.000433e+06</td>\n",
       "      <td>3.097594e+06</td>\n",
       "      <td>3.514799e+06</td>\n",
       "      <td>3.690060e+06</td>\n",
       "      <td>3.781897e+06</td>\n",
       "    </tr>\n",
       "    <tr>\n",
       "      <th>Name</th>\n",
       "      <td>4687.0</td>\n",
       "      <td>3.272298e+06</td>\n",
       "      <td>5.486011e+05</td>\n",
       "      <td>2.000433e+06</td>\n",
       "      <td>3.097594e+06</td>\n",
       "      <td>3.514799e+06</td>\n",
       "      <td>3.690060e+06</td>\n",
       "      <td>3.781897e+06</td>\n",
       "    </tr>\n",
       "    <tr>\n",
       "      <th>Absolute Magnitude</th>\n",
       "      <td>4687.0</td>\n",
       "      <td>2.226786e+01</td>\n",
       "      <td>2.890972e+00</td>\n",
       "      <td>1.116000e+01</td>\n",
       "      <td>2.010000e+01</td>\n",
       "      <td>2.190000e+01</td>\n",
       "      <td>2.450000e+01</td>\n",
       "      <td>3.210000e+01</td>\n",
       "    </tr>\n",
       "    <tr>\n",
       "      <th>Est Dia in KM(min)</th>\n",
       "      <td>4687.0</td>\n",
       "      <td>2.046042e-01</td>\n",
       "      <td>3.695734e-01</td>\n",
       "      <td>1.010543e-03</td>\n",
       "      <td>3.346224e-02</td>\n",
       "      <td>1.108039e-01</td>\n",
       "      <td>2.538370e-01</td>\n",
       "      <td>1.557955e+01</td>\n",
       "    </tr>\n",
       "    <tr>\n",
       "      <th>Est Dia in KM(max)</th>\n",
       "      <td>4687.0</td>\n",
       "      <td>4.575089e-01</td>\n",
       "      <td>8.263912e-01</td>\n",
       "      <td>2.259644e-03</td>\n",
       "      <td>7.482384e-02</td>\n",
       "      <td>2.477650e-01</td>\n",
       "      <td>5.675969e-01</td>\n",
       "      <td>3.483694e+01</td>\n",
       "    </tr>\n",
       "    <tr>\n",
       "      <th>Est Dia in M(min)</th>\n",
       "      <td>4687.0</td>\n",
       "      <td>2.046042e+02</td>\n",
       "      <td>3.695734e+02</td>\n",
       "      <td>1.010543e+00</td>\n",
       "      <td>3.346224e+01</td>\n",
       "      <td>1.108039e+02</td>\n",
       "      <td>2.538370e+02</td>\n",
       "      <td>1.557955e+04</td>\n",
       "    </tr>\n",
       "    <tr>\n",
       "      <th>Est Dia in M(max)</th>\n",
       "      <td>4687.0</td>\n",
       "      <td>4.575089e+02</td>\n",
       "      <td>8.263912e+02</td>\n",
       "      <td>2.259644e+00</td>\n",
       "      <td>7.482384e+01</td>\n",
       "      <td>2.477650e+02</td>\n",
       "      <td>5.675969e+02</td>\n",
       "      <td>3.483694e+04</td>\n",
       "    </tr>\n",
       "    <tr>\n",
       "      <th>Est Dia in Miles(min)</th>\n",
       "      <td>4687.0</td>\n",
       "      <td>1.271351e-01</td>\n",
       "      <td>2.296422e-01</td>\n",
       "      <td>6.279224e-04</td>\n",
       "      <td>2.079246e-02</td>\n",
       "      <td>6.885032e-02</td>\n",
       "      <td>1.577270e-01</td>\n",
       "      <td>9.680682e+00</td>\n",
       "    </tr>\n",
       "    <tr>\n",
       "      <th>Est Dia in Miles(max)</th>\n",
       "      <td>4687.0</td>\n",
       "      <td>2.842828e-01</td>\n",
       "      <td>5.134956e-01</td>\n",
       "      <td>1.404077e-03</td>\n",
       "      <td>4.649336e-02</td>\n",
       "      <td>1.539540e-01</td>\n",
       "      <td>3.526882e-01</td>\n",
       "      <td>2.164666e+01</td>\n",
       "    </tr>\n",
       "    <tr>\n",
       "      <th>Est Dia in Feet(min)</th>\n",
       "      <td>4687.0</td>\n",
       "      <td>6.712737e+02</td>\n",
       "      <td>1.212511e+03</td>\n",
       "      <td>3.315431e+00</td>\n",
       "      <td>1.097842e+02</td>\n",
       "      <td>3.635298e+02</td>\n",
       "      <td>8.327987e+02</td>\n",
       "      <td>5.111402e+04</td>\n",
       "    </tr>\n",
       "    <tr>\n",
       "      <th>Est Dia in Feet(max)</th>\n",
       "      <td>4687.0</td>\n",
       "      <td>1.501014e+03</td>\n",
       "      <td>2.711257e+03</td>\n",
       "      <td>7.413530e+00</td>\n",
       "      <td>2.454850e+02</td>\n",
       "      <td>8.128774e+02</td>\n",
       "      <td>1.862194e+03</td>\n",
       "      <td>1.142944e+05</td>\n",
       "    </tr>\n",
       "    <tr>\n",
       "      <th>Epoch Date Close Approach</th>\n",
       "      <td>4687.0</td>\n",
       "      <td>1.179881e+12</td>\n",
       "      <td>1.981540e+11</td>\n",
       "      <td>7.889472e+11</td>\n",
       "      <td>1.015574e+12</td>\n",
       "      <td>1.203062e+12</td>\n",
       "      <td>1.355558e+12</td>\n",
       "      <td>1.473318e+12</td>\n",
       "    </tr>\n",
       "    <tr>\n",
       "      <th>Relative Velocity km per sec</th>\n",
       "      <td>4687.0</td>\n",
       "      <td>1.397081e+01</td>\n",
       "      <td>7.293223e+00</td>\n",
       "      <td>3.355041e-01</td>\n",
       "      <td>8.432865e+00</td>\n",
       "      <td>1.291789e+01</td>\n",
       "      <td>1.807765e+01</td>\n",
       "      <td>4.463375e+01</td>\n",
       "    </tr>\n",
       "    <tr>\n",
       "      <th>Relative Velocity km per hr</th>\n",
       "      <td>4687.0</td>\n",
       "      <td>5.029492e+04</td>\n",
       "      <td>2.625560e+04</td>\n",
       "      <td>1.207815e+03</td>\n",
       "      <td>3.035831e+04</td>\n",
       "      <td>4.650440e+04</td>\n",
       "      <td>6.507954e+04</td>\n",
       "      <td>1.606815e+05</td>\n",
       "    </tr>\n",
       "    <tr>\n",
       "      <th>Miles per hour</th>\n",
       "      <td>4687.0</td>\n",
       "      <td>3.125131e+04</td>\n",
       "      <td>1.631421e+04</td>\n",
       "      <td>7.504891e+02</td>\n",
       "      <td>1.886348e+04</td>\n",
       "      <td>2.889603e+04</td>\n",
       "      <td>4.043789e+04</td>\n",
       "      <td>9.984123e+04</td>\n",
       "    </tr>\n",
       "    <tr>\n",
       "      <th>Miss Dist.(Astronomical)</th>\n",
       "      <td>4687.0</td>\n",
       "      <td>2.567782e-01</td>\n",
       "      <td>1.457982e-01</td>\n",
       "      <td>1.778761e-04</td>\n",
       "      <td>1.334196e-01</td>\n",
       "      <td>2.650286e-01</td>\n",
       "      <td>3.841541e-01</td>\n",
       "      <td>4.998841e-01</td>\n",
       "    </tr>\n",
       "    <tr>\n",
       "      <th>Miss Dist.(lunar)</th>\n",
       "      <td>4687.0</td>\n",
       "      <td>9.988671e+01</td>\n",
       "      <td>5.671549e+01</td>\n",
       "      <td>6.919380e-02</td>\n",
       "      <td>5.190021e+01</td>\n",
       "      <td>1.030961e+02</td>\n",
       "      <td>1.494359e+02</td>\n",
       "      <td>1.944549e+02</td>\n",
       "    </tr>\n",
       "    <tr>\n",
       "      <th>Miss Dist.(kilometers)</th>\n",
       "      <td>4687.0</td>\n",
       "      <td>3.841347e+07</td>\n",
       "      <td>2.181110e+07</td>\n",
       "      <td>2.660989e+04</td>\n",
       "      <td>1.995928e+07</td>\n",
       "      <td>3.964771e+07</td>\n",
       "      <td>5.746863e+07</td>\n",
       "      <td>7.478160e+07</td>\n",
       "    </tr>\n",
       "    <tr>\n",
       "      <th>Miss Dist.(miles)</th>\n",
       "      <td>4687.0</td>\n",
       "      <td>2.386902e+07</td>\n",
       "      <td>1.355279e+07</td>\n",
       "      <td>1.653462e+04</td>\n",
       "      <td>1.240212e+07</td>\n",
       "      <td>2.463595e+07</td>\n",
       "      <td>3.570935e+07</td>\n",
       "      <td>4.646713e+07</td>\n",
       "    </tr>\n",
       "    <tr>\n",
       "      <th>Orbit ID</th>\n",
       "      <td>4687.0</td>\n",
       "      <td>2.830062e+01</td>\n",
       "      <td>3.829967e+01</td>\n",
       "      <td>1.000000e+00</td>\n",
       "      <td>9.000000e+00</td>\n",
       "      <td>1.600000e+01</td>\n",
       "      <td>3.100000e+01</td>\n",
       "      <td>6.110000e+02</td>\n",
       "    </tr>\n",
       "    <tr>\n",
       "      <th>Orbit Uncertainity</th>\n",
       "      <td>4687.0</td>\n",
       "      <td>3.516962e+00</td>\n",
       "      <td>3.078307e+00</td>\n",
       "      <td>0.000000e+00</td>\n",
       "      <td>0.000000e+00</td>\n",
       "      <td>3.000000e+00</td>\n",
       "      <td>6.000000e+00</td>\n",
       "      <td>9.000000e+00</td>\n",
       "    </tr>\n",
       "    <tr>\n",
       "      <th>Minimum Orbit Intersection</th>\n",
       "      <td>4687.0</td>\n",
       "      <td>8.232007e-02</td>\n",
       "      <td>9.029997e-02</td>\n",
       "      <td>2.061110e-06</td>\n",
       "      <td>1.458510e-02</td>\n",
       "      <td>4.736550e-02</td>\n",
       "      <td>1.235935e-01</td>\n",
       "      <td>4.778910e-01</td>\n",
       "    </tr>\n",
       "    <tr>\n",
       "      <th>Jupiter Tisserand Invariant</th>\n",
       "      <td>4687.0</td>\n",
       "      <td>5.056111e+00</td>\n",
       "      <td>1.237818e+00</td>\n",
       "      <td>2.196000e+00</td>\n",
       "      <td>4.049500e+00</td>\n",
       "      <td>5.071000e+00</td>\n",
       "      <td>6.019000e+00</td>\n",
       "      <td>9.025000e+00</td>\n",
       "    </tr>\n",
       "    <tr>\n",
       "      <th>Epoch Osculation</th>\n",
       "      <td>4687.0</td>\n",
       "      <td>2.457724e+06</td>\n",
       "      <td>9.202975e+02</td>\n",
       "      <td>2.450164e+06</td>\n",
       "      <td>2.458000e+06</td>\n",
       "      <td>2.458000e+06</td>\n",
       "      <td>2.458000e+06</td>\n",
       "      <td>2.458020e+06</td>\n",
       "    </tr>\n",
       "    <tr>\n",
       "      <th>Eccentricity</th>\n",
       "      <td>4687.0</td>\n",
       "      <td>3.825691e-01</td>\n",
       "      <td>1.804438e-01</td>\n",
       "      <td>7.522355e-03</td>\n",
       "      <td>2.408583e-01</td>\n",
       "      <td>3.724502e-01</td>\n",
       "      <td>5.124106e-01</td>\n",
       "      <td>9.602607e-01</td>\n",
       "    </tr>\n",
       "    <tr>\n",
       "      <th>Semi Major Axis</th>\n",
       "      <td>4687.0</td>\n",
       "      <td>1.400264e+00</td>\n",
       "      <td>5.241539e-01</td>\n",
       "      <td>6.159204e-01</td>\n",
       "      <td>1.000635e+00</td>\n",
       "      <td>1.240981e+00</td>\n",
       "      <td>1.678364e+00</td>\n",
       "      <td>5.072008e+00</td>\n",
       "    </tr>\n",
       "    <tr>\n",
       "      <th>Inclination</th>\n",
       "      <td>4687.0</td>\n",
       "      <td>1.337384e+01</td>\n",
       "      <td>1.093623e+01</td>\n",
       "      <td>1.451294e-02</td>\n",
       "      <td>4.962341e+00</td>\n",
       "      <td>1.031184e+01</td>\n",
       "      <td>1.951168e+01</td>\n",
       "      <td>7.540667e+01</td>\n",
       "    </tr>\n",
       "    <tr>\n",
       "      <th>Asc Node Longitude</th>\n",
       "      <td>4687.0</td>\n",
       "      <td>1.721573e+02</td>\n",
       "      <td>1.032768e+02</td>\n",
       "      <td>1.940674e-03</td>\n",
       "      <td>8.308121e+01</td>\n",
       "      <td>1.726254e+02</td>\n",
       "      <td>2.550269e+02</td>\n",
       "      <td>3.599059e+02</td>\n",
       "    </tr>\n",
       "    <tr>\n",
       "      <th>Orbital Period</th>\n",
       "      <td>4687.0</td>\n",
       "      <td>6.355821e+02</td>\n",
       "      <td>3.709547e+02</td>\n",
       "      <td>1.765572e+02</td>\n",
       "      <td>3.656050e+02</td>\n",
       "      <td>5.049473e+02</td>\n",
       "      <td>7.941960e+02</td>\n",
       "      <td>4.172231e+03</td>\n",
       "    </tr>\n",
       "    <tr>\n",
       "      <th>Perihelion Distance</th>\n",
       "      <td>4687.0</td>\n",
       "      <td>8.133833e-01</td>\n",
       "      <td>2.420591e-01</td>\n",
       "      <td>8.074430e-02</td>\n",
       "      <td>6.308343e-01</td>\n",
       "      <td>8.331526e-01</td>\n",
       "      <td>9.972270e-01</td>\n",
       "      <td>1.299832e+00</td>\n",
       "    </tr>\n",
       "    <tr>\n",
       "      <th>Perihelion Arg</th>\n",
       "      <td>4687.0</td>\n",
       "      <td>1.839322e+02</td>\n",
       "      <td>1.035130e+02</td>\n",
       "      <td>6.917625e-03</td>\n",
       "      <td>9.562592e+01</td>\n",
       "      <td>1.897616e+02</td>\n",
       "      <td>2.717776e+02</td>\n",
       "      <td>3.599931e+02</td>\n",
       "    </tr>\n",
       "    <tr>\n",
       "      <th>Aphelion Dist</th>\n",
       "      <td>4687.0</td>\n",
       "      <td>1.987144e+00</td>\n",
       "      <td>9.515195e-01</td>\n",
       "      <td>8.037653e-01</td>\n",
       "      <td>1.266059e+00</td>\n",
       "      <td>1.618195e+00</td>\n",
       "      <td>2.451171e+00</td>\n",
       "      <td>8.983852e+00</td>\n",
       "    </tr>\n",
       "    <tr>\n",
       "      <th>Perihelion Time</th>\n",
       "      <td>4687.0</td>\n",
       "      <td>2.457728e+06</td>\n",
       "      <td>9.442264e+02</td>\n",
       "      <td>2.450100e+06</td>\n",
       "      <td>2.457815e+06</td>\n",
       "      <td>2.457973e+06</td>\n",
       "      <td>2.458108e+06</td>\n",
       "      <td>2.458839e+06</td>\n",
       "    </tr>\n",
       "    <tr>\n",
       "      <th>Mean Anomaly</th>\n",
       "      <td>4687.0</td>\n",
       "      <td>1.811679e+02</td>\n",
       "      <td>1.075016e+02</td>\n",
       "      <td>3.191491e-03</td>\n",
       "      <td>8.700692e+01</td>\n",
       "      <td>1.857189e+02</td>\n",
       "      <td>2.765319e+02</td>\n",
       "      <td>3.599180e+02</td>\n",
       "    </tr>\n",
       "    <tr>\n",
       "      <th>Mean Motion</th>\n",
       "      <td>4687.0</td>\n",
       "      <td>7.382423e-01</td>\n",
       "      <td>3.426271e-01</td>\n",
       "      <td>8.628476e-02</td>\n",
       "      <td>4.532886e-01</td>\n",
       "      <td>7.129457e-01</td>\n",
       "      <td>9.846692e-01</td>\n",
       "      <td>2.039000e+00</td>\n",
       "    </tr>\n",
       "  </tbody>\n",
       "</table>\n",
       "</div>"
      ],
      "text/plain": [
       "                               count          mean           std  \\\n",
       "Neo Reference ID              4687.0  3.272298e+06  5.486011e+05   \n",
       "Name                          4687.0  3.272298e+06  5.486011e+05   \n",
       "Absolute Magnitude            4687.0  2.226786e+01  2.890972e+00   \n",
       "Est Dia in KM(min)            4687.0  2.046042e-01  3.695734e-01   \n",
       "Est Dia in KM(max)            4687.0  4.575089e-01  8.263912e-01   \n",
       "Est Dia in M(min)             4687.0  2.046042e+02  3.695734e+02   \n",
       "Est Dia in M(max)             4687.0  4.575089e+02  8.263912e+02   \n",
       "Est Dia in Miles(min)         4687.0  1.271351e-01  2.296422e-01   \n",
       "Est Dia in Miles(max)         4687.0  2.842828e-01  5.134956e-01   \n",
       "Est Dia in Feet(min)          4687.0  6.712737e+02  1.212511e+03   \n",
       "Est Dia in Feet(max)          4687.0  1.501014e+03  2.711257e+03   \n",
       "Epoch Date Close Approach     4687.0  1.179881e+12  1.981540e+11   \n",
       "Relative Velocity km per sec  4687.0  1.397081e+01  7.293223e+00   \n",
       "Relative Velocity km per hr   4687.0  5.029492e+04  2.625560e+04   \n",
       "Miles per hour                4687.0  3.125131e+04  1.631421e+04   \n",
       "Miss Dist.(Astronomical)      4687.0  2.567782e-01  1.457982e-01   \n",
       "Miss Dist.(lunar)             4687.0  9.988671e+01  5.671549e+01   \n",
       "Miss Dist.(kilometers)        4687.0  3.841347e+07  2.181110e+07   \n",
       "Miss Dist.(miles)             4687.0  2.386902e+07  1.355279e+07   \n",
       "Orbit ID                      4687.0  2.830062e+01  3.829967e+01   \n",
       "Orbit Uncertainity            4687.0  3.516962e+00  3.078307e+00   \n",
       "Minimum Orbit Intersection    4687.0  8.232007e-02  9.029997e-02   \n",
       "Jupiter Tisserand Invariant   4687.0  5.056111e+00  1.237818e+00   \n",
       "Epoch Osculation              4687.0  2.457724e+06  9.202975e+02   \n",
       "Eccentricity                  4687.0  3.825691e-01  1.804438e-01   \n",
       "Semi Major Axis               4687.0  1.400264e+00  5.241539e-01   \n",
       "Inclination                   4687.0  1.337384e+01  1.093623e+01   \n",
       "Asc Node Longitude            4687.0  1.721573e+02  1.032768e+02   \n",
       "Orbital Period                4687.0  6.355821e+02  3.709547e+02   \n",
       "Perihelion Distance           4687.0  8.133833e-01  2.420591e-01   \n",
       "Perihelion Arg                4687.0  1.839322e+02  1.035130e+02   \n",
       "Aphelion Dist                 4687.0  1.987144e+00  9.515195e-01   \n",
       "Perihelion Time               4687.0  2.457728e+06  9.442264e+02   \n",
       "Mean Anomaly                  4687.0  1.811679e+02  1.075016e+02   \n",
       "Mean Motion                   4687.0  7.382423e-01  3.426271e-01   \n",
       "\n",
       "                                       min           25%           50%  \\\n",
       "Neo Reference ID              2.000433e+06  3.097594e+06  3.514799e+06   \n",
       "Name                          2.000433e+06  3.097594e+06  3.514799e+06   \n",
       "Absolute Magnitude            1.116000e+01  2.010000e+01  2.190000e+01   \n",
       "Est Dia in KM(min)            1.010543e-03  3.346224e-02  1.108039e-01   \n",
       "Est Dia in KM(max)            2.259644e-03  7.482384e-02  2.477650e-01   \n",
       "Est Dia in M(min)             1.010543e+00  3.346224e+01  1.108039e+02   \n",
       "Est Dia in M(max)             2.259644e+00  7.482384e+01  2.477650e+02   \n",
       "Est Dia in Miles(min)         6.279224e-04  2.079246e-02  6.885032e-02   \n",
       "Est Dia in Miles(max)         1.404077e-03  4.649336e-02  1.539540e-01   \n",
       "Est Dia in Feet(min)          3.315431e+00  1.097842e+02  3.635298e+02   \n",
       "Est Dia in Feet(max)          7.413530e+00  2.454850e+02  8.128774e+02   \n",
       "Epoch Date Close Approach     7.889472e+11  1.015574e+12  1.203062e+12   \n",
       "Relative Velocity km per sec  3.355041e-01  8.432865e+00  1.291789e+01   \n",
       "Relative Velocity km per hr   1.207815e+03  3.035831e+04  4.650440e+04   \n",
       "Miles per hour                7.504891e+02  1.886348e+04  2.889603e+04   \n",
       "Miss Dist.(Astronomical)      1.778761e-04  1.334196e-01  2.650286e-01   \n",
       "Miss Dist.(lunar)             6.919380e-02  5.190021e+01  1.030961e+02   \n",
       "Miss Dist.(kilometers)        2.660989e+04  1.995928e+07  3.964771e+07   \n",
       "Miss Dist.(miles)             1.653462e+04  1.240212e+07  2.463595e+07   \n",
       "Orbit ID                      1.000000e+00  9.000000e+00  1.600000e+01   \n",
       "Orbit Uncertainity            0.000000e+00  0.000000e+00  3.000000e+00   \n",
       "Minimum Orbit Intersection    2.061110e-06  1.458510e-02  4.736550e-02   \n",
       "Jupiter Tisserand Invariant   2.196000e+00  4.049500e+00  5.071000e+00   \n",
       "Epoch Osculation              2.450164e+06  2.458000e+06  2.458000e+06   \n",
       "Eccentricity                  7.522355e-03  2.408583e-01  3.724502e-01   \n",
       "Semi Major Axis               6.159204e-01  1.000635e+00  1.240981e+00   \n",
       "Inclination                   1.451294e-02  4.962341e+00  1.031184e+01   \n",
       "Asc Node Longitude            1.940674e-03  8.308121e+01  1.726254e+02   \n",
       "Orbital Period                1.765572e+02  3.656050e+02  5.049473e+02   \n",
       "Perihelion Distance           8.074430e-02  6.308343e-01  8.331526e-01   \n",
       "Perihelion Arg                6.917625e-03  9.562592e+01  1.897616e+02   \n",
       "Aphelion Dist                 8.037653e-01  1.266059e+00  1.618195e+00   \n",
       "Perihelion Time               2.450100e+06  2.457815e+06  2.457973e+06   \n",
       "Mean Anomaly                  3.191491e-03  8.700692e+01  1.857189e+02   \n",
       "Mean Motion                   8.628476e-02  4.532886e-01  7.129457e-01   \n",
       "\n",
       "                                       75%           max  \n",
       "Neo Reference ID              3.690060e+06  3.781897e+06  \n",
       "Name                          3.690060e+06  3.781897e+06  \n",
       "Absolute Magnitude            2.450000e+01  3.210000e+01  \n",
       "Est Dia in KM(min)            2.538370e-01  1.557955e+01  \n",
       "Est Dia in KM(max)            5.675969e-01  3.483694e+01  \n",
       "Est Dia in M(min)             2.538370e+02  1.557955e+04  \n",
       "Est Dia in M(max)             5.675969e+02  3.483694e+04  \n",
       "Est Dia in Miles(min)         1.577270e-01  9.680682e+00  \n",
       "Est Dia in Miles(max)         3.526882e-01  2.164666e+01  \n",
       "Est Dia in Feet(min)          8.327987e+02  5.111402e+04  \n",
       "Est Dia in Feet(max)          1.862194e+03  1.142944e+05  \n",
       "Epoch Date Close Approach     1.355558e+12  1.473318e+12  \n",
       "Relative Velocity km per sec  1.807765e+01  4.463375e+01  \n",
       "Relative Velocity km per hr   6.507954e+04  1.606815e+05  \n",
       "Miles per hour                4.043789e+04  9.984123e+04  \n",
       "Miss Dist.(Astronomical)      3.841541e-01  4.998841e-01  \n",
       "Miss Dist.(lunar)             1.494359e+02  1.944549e+02  \n",
       "Miss Dist.(kilometers)        5.746863e+07  7.478160e+07  \n",
       "Miss Dist.(miles)             3.570935e+07  4.646713e+07  \n",
       "Orbit ID                      3.100000e+01  6.110000e+02  \n",
       "Orbit Uncertainity            6.000000e+00  9.000000e+00  \n",
       "Minimum Orbit Intersection    1.235935e-01  4.778910e-01  \n",
       "Jupiter Tisserand Invariant   6.019000e+00  9.025000e+00  \n",
       "Epoch Osculation              2.458000e+06  2.458020e+06  \n",
       "Eccentricity                  5.124106e-01  9.602607e-01  \n",
       "Semi Major Axis               1.678364e+00  5.072008e+00  \n",
       "Inclination                   1.951168e+01  7.540667e+01  \n",
       "Asc Node Longitude            2.550269e+02  3.599059e+02  \n",
       "Orbital Period                7.941960e+02  4.172231e+03  \n",
       "Perihelion Distance           9.972270e-01  1.299832e+00  \n",
       "Perihelion Arg                2.717776e+02  3.599931e+02  \n",
       "Aphelion Dist                 2.451171e+00  8.983852e+00  \n",
       "Perihelion Time               2.458108e+06  2.458839e+06  \n",
       "Mean Anomaly                  2.765319e+02  3.599180e+02  \n",
       "Mean Motion                   9.846692e-01  2.039000e+00  "
      ]
     },
     "execution_count": 5,
     "metadata": {},
     "output_type": "execute_result"
    }
   ],
   "source": [
    "df.describe().T"
   ]
  },
  {
   "cell_type": "code",
   "execution_count": 6,
   "id": "8e118fe8",
   "metadata": {},
   "outputs": [
    {
     "data": {
      "text/plain": [
       "Neo Reference ID                0\n",
       "Name                            0\n",
       "Absolute Magnitude              0\n",
       "Est Dia in KM(min)              0\n",
       "Est Dia in KM(max)              0\n",
       "Est Dia in M(min)               0\n",
       "Est Dia in M(max)               0\n",
       "Est Dia in Miles(min)           0\n",
       "Est Dia in Miles(max)           0\n",
       "Est Dia in Feet(min)            0\n",
       "Est Dia in Feet(max)            0\n",
       "Close Approach Date             0\n",
       "Epoch Date Close Approach       0\n",
       "Relative Velocity km per sec    0\n",
       "Relative Velocity km per hr     0\n",
       "Miles per hour                  0\n",
       "Miss Dist.(Astronomical)        0\n",
       "Miss Dist.(lunar)               0\n",
       "Miss Dist.(kilometers)          0\n",
       "Miss Dist.(miles)               0\n",
       "Orbiting Body                   0\n",
       "Orbit ID                        0\n",
       "Orbit Determination Date        0\n",
       "Orbit Uncertainity              0\n",
       "Minimum Orbit Intersection      0\n",
       "Jupiter Tisserand Invariant     0\n",
       "Epoch Osculation                0\n",
       "Eccentricity                    0\n",
       "Semi Major Axis                 0\n",
       "Inclination                     0\n",
       "Asc Node Longitude              0\n",
       "Orbital Period                  0\n",
       "Perihelion Distance             0\n",
       "Perihelion Arg                  0\n",
       "Aphelion Dist                   0\n",
       "Perihelion Time                 0\n",
       "Mean Anomaly                    0\n",
       "Mean Motion                     0\n",
       "Equinox                         0\n",
       "Hazardous                       0\n",
       "dtype: int64"
      ]
     },
     "execution_count": 6,
     "metadata": {},
     "output_type": "execute_result"
    }
   ],
   "source": [
    "#checking missing values\n",
    "df.isna().sum()"
   ]
  },
  {
   "cell_type": "code",
   "execution_count": 7,
   "id": "2dbda991",
   "metadata": {},
   "outputs": [],
   "source": [
    "df = df.drop(['Est Dia in M(min)', 'Est Dia in M(max)', 'Est Dia in Miles(min)', 'Est Dia in Miles(max)', 'Est Dia in Feet(min)', 'Est Dia in Feet(max)', 'Est Dia in KM(max)',\n",
    "              'Relative Velocity km per hr', 'Miles per hour',\n",
    "              'Miss Dist.(Astronomical)', 'Miss Dist.(lunar)', 'Miss Dist.(miles)',\n",
    "              'Semi Major Axis',\n",
    "              'Neo Reference ID', 'Name',\n",
    "              'Close Approach Date', 'Epoch Date Close Approach', 'Orbit Determination Date'],axis=1)"
   ]
  },
  {
   "cell_type": "code",
   "execution_count": 8,
   "id": "cf81e780",
   "metadata": {},
   "outputs": [
    {
     "data": {
      "text/plain": [
       "<AxesSubplot:>"
      ]
     },
     "execution_count": 8,
     "metadata": {},
     "output_type": "execute_result"
    },
    {
     "data": {
      "image/png": "[encoded data removed]",
      "text/plain": [
       "<Figure size 432x288 with 2 Axes>"
      ]
     },
     "metadata": {
      "needs_background": "light"
     },
     "output_type": "display_data"
    }
   ],
   "source": [
    "sns.heatmap(df.corr())"
   ]
  },
  {
   "cell_type": "code",
   "execution_count": 9,
   "id": "7b7ce767",
   "metadata": {},
   "outputs": [
    {
     "data": {
      "text/html": [
       "<div>\n",
       "<style scoped>\n",
       "    .dataframe tbody tr th:only-of-type {\n",
       "        vertical-align: middle;\n",
       "    }\n",
       "\n",
       "    .dataframe tbody tr th {\n",
       "        vertical-align: top;\n",
       "    }\n",
       "\n",
       "    .dataframe thead th {\n",
       "        text-align: right;\n",
       "    }\n",
       "</style>\n",
       "<table border=\"1\" class=\"dataframe\">\n",
       "  <thead>\n",
       "    <tr style=\"text-align: right;\">\n",
       "      <th></th>\n",
       "      <th>Absolute Magnitude</th>\n",
       "      <th>Est Dia in KM(min)</th>\n",
       "      <th>Relative Velocity km per sec</th>\n",
       "      <th>Miss Dist.(kilometers)</th>\n",
       "      <th>Orbit ID</th>\n",
       "      <th>Orbit Uncertainity</th>\n",
       "      <th>Minimum Orbit Intersection</th>\n",
       "      <th>Jupiter Tisserand Invariant</th>\n",
       "      <th>Epoch Osculation</th>\n",
       "      <th>Eccentricity</th>\n",
       "      <th>Inclination</th>\n",
       "      <th>Asc Node Longitude</th>\n",
       "      <th>Orbital Period</th>\n",
       "      <th>Perihelion Distance</th>\n",
       "      <th>Perihelion Arg</th>\n",
       "      <th>Aphelion Dist</th>\n",
       "      <th>Perihelion Time</th>\n",
       "      <th>Mean Anomaly</th>\n",
       "      <th>Mean Motion</th>\n",
       "      <th>Hazardous</th>\n",
       "    </tr>\n",
       "  </thead>\n",
       "  <tbody>\n",
       "    <tr>\n",
       "      <th>Absolute Magnitude</th>\n",
       "      <td>1.000000</td>\n",
       "      <td>-0.613482</td>\n",
       "      <td>-0.376853</td>\n",
       "      <td>-0.339117</td>\n",
       "      <td>-0.575668</td>\n",
       "      <td>0.677764</td>\n",
       "      <td>-0.488235</td>\n",
       "      <td>0.238702</td>\n",
       "      <td>-0.116087</td>\n",
       "      <td>-0.361359</td>\n",
       "      <td>-0.459632</td>\n",
       "      <td>-0.011470</td>\n",
       "      <td>-0.206774</td>\n",
       "      <td>0.086966</td>\n",
       "      <td>0.031784</td>\n",
       "      <td>-0.256169</td>\n",
       "      <td>-0.115855</td>\n",
       "      <td>-0.049401</td>\n",
       "      <td>0.195652</td>\n",
       "      <td>-0.325522</td>\n",
       "    </tr>\n",
       "    <tr>\n",
       "      <th>Est Dia in KM(min)</th>\n",
       "      <td>-0.613482</td>\n",
       "      <td>1.000000</td>\n",
       "      <td>0.242141</td>\n",
       "      <td>0.188027</td>\n",
       "      <td>0.724089</td>\n",
       "      <td>-0.399488</td>\n",
       "      <td>0.257904</td>\n",
       "      <td>-0.133582</td>\n",
       "      <td>0.061582</td>\n",
       "      <td>0.216623</td>\n",
       "      <td>0.259450</td>\n",
       "      <td>0.036558</td>\n",
       "      <td>0.118314</td>\n",
       "      <td>-0.071866</td>\n",
       "      <td>-0.019577</td>\n",
       "      <td>0.151836</td>\n",
       "      <td>0.062167</td>\n",
       "      <td>0.031455</td>\n",
       "      <td>-0.104350</td>\n",
       "      <td>0.132424</td>\n",
       "    </tr>\n",
       "    <tr>\n",
       "      <th>Relative Velocity km per sec</th>\n",
       "      <td>-0.376853</td>\n",
       "      <td>0.242141</td>\n",
       "      <td>1.000000</td>\n",
       "      <td>0.351694</td>\n",
       "      <td>0.110679</td>\n",
       "      <td>-0.202234</td>\n",
       "      <td>0.076306</td>\n",
       "      <td>-0.052294</td>\n",
       "      <td>0.020194</td>\n",
       "      <td>0.495053</td>\n",
       "      <td>0.514657</td>\n",
       "      <td>-0.021301</td>\n",
       "      <td>0.017961</td>\n",
       "      <td>-0.506978</td>\n",
       "      <td>-0.002913</td>\n",
       "      <td>0.144782</td>\n",
       "      <td>0.020006</td>\n",
       "      <td>0.017685</td>\n",
       "      <td>0.022452</td>\n",
       "      <td>0.191970</td>\n",
       "    </tr>\n",
       "    <tr>\n",
       "      <th>Miss Dist.(kilometers)</th>\n",
       "      <td>-0.339117</td>\n",
       "      <td>0.188027</td>\n",
       "      <td>0.351694</td>\n",
       "      <td>1.000000</td>\n",
       "      <td>0.149814</td>\n",
       "      <td>-0.326158</td>\n",
       "      <td>0.351981</td>\n",
       "      <td>0.093969</td>\n",
       "      <td>0.193944</td>\n",
       "      <td>-0.005627</td>\n",
       "      <td>0.255828</td>\n",
       "      <td>-0.023033</td>\n",
       "      <td>-0.109888</td>\n",
       "      <td>-0.079937</td>\n",
       "      <td>-0.021483</td>\n",
       "      <td>-0.103231</td>\n",
       "      <td>0.189409</td>\n",
       "      <td>-0.010157</td>\n",
       "      <td>0.104642</td>\n",
       "      <td>0.032407</td>\n",
       "    </tr>\n",
       "    <tr>\n",
       "      <th>Orbit ID</th>\n",
       "      <td>-0.575668</td>\n",
       "      <td>0.724089</td>\n",
       "      <td>0.110679</td>\n",
       "      <td>0.149814</td>\n",
       "      <td>1.000000</td>\n",
       "      <td>-0.504578</td>\n",
       "      <td>0.124283</td>\n",
       "      <td>-0.019595</td>\n",
       "      <td>0.036152</td>\n",
       "      <td>0.100314</td>\n",
       "      <td>0.112125</td>\n",
       "      <td>0.047959</td>\n",
       "      <td>0.002705</td>\n",
       "      <td>-0.063884</td>\n",
       "      <td>0.001338</td>\n",
       "      <td>0.022269</td>\n",
       "      <td>0.037901</td>\n",
       "      <td>0.048985</td>\n",
       "      <td>-0.008898</td>\n",
       "      <td>0.247369</td>\n",
       "    </tr>\n",
       "    <tr>\n",
       "      <th>Orbit Uncertainity</th>\n",
       "      <td>0.677764</td>\n",
       "      <td>-0.399488</td>\n",
       "      <td>-0.202234</td>\n",
       "      <td>-0.326158</td>\n",
       "      <td>-0.504578</td>\n",
       "      <td>1.000000</td>\n",
       "      <td>-0.267524</td>\n",
       "      <td>-0.008992</td>\n",
       "      <td>-0.331558</td>\n",
       "      <td>-0.088029</td>\n",
       "      <td>-0.228806</td>\n",
       "      <td>-0.009618</td>\n",
       "      <td>0.047535</td>\n",
       "      <td>0.107946</td>\n",
       "      <td>0.016307</td>\n",
       "      <td>0.020908</td>\n",
       "      <td>-0.325784</td>\n",
       "      <td>-0.059396</td>\n",
       "      <td>-0.023776</td>\n",
       "      <td>-0.328721</td>\n",
       "    </tr>\n",
       "    <tr>\n",
       "      <th>Minimum Orbit Intersection</th>\n",
       "      <td>-0.488235</td>\n",
       "      <td>0.257904</td>\n",
       "      <td>0.076306</td>\n",
       "      <td>0.351981</td>\n",
       "      <td>0.124283</td>\n",
       "      <td>-0.267524</td>\n",
       "      <td>1.000000</td>\n",
       "      <td>-0.305849</td>\n",
       "      <td>0.081155</td>\n",
       "      <td>0.093795</td>\n",
       "      <td>0.439867</td>\n",
       "      <td>-0.008963</td>\n",
       "      <td>0.279885</td>\n",
       "      <td>0.299991</td>\n",
       "      <td>-0.029130</td>\n",
       "      <td>0.242023</td>\n",
       "      <td>0.080592</td>\n",
       "      <td>-0.013336</td>\n",
       "      <td>-0.290538</td>\n",
       "      <td>-0.288949</td>\n",
       "    </tr>\n",
       "    <tr>\n",
       "      <th>Jupiter Tisserand Invariant</th>\n",
       "      <td>0.238702</td>\n",
       "      <td>-0.133582</td>\n",
       "      <td>-0.052294</td>\n",
       "      <td>0.093969</td>\n",
       "      <td>-0.019595</td>\n",
       "      <td>-0.008992</td>\n",
       "      <td>-0.305849</td>\n",
       "      <td>1.000000</td>\n",
       "      <td>0.051062</td>\n",
       "      <td>-0.478341</td>\n",
       "      <td>-0.037366</td>\n",
       "      <td>0.018413</td>\n",
       "      <td>-0.893517</td>\n",
       "      <td>-0.537884</td>\n",
       "      <td>0.064496</td>\n",
       "      <td>-0.887879</td>\n",
       "      <td>0.051994</td>\n",
       "      <td>0.030972</td>\n",
       "      <td>0.992680</td>\n",
       "      <td>-0.003404</td>\n",
       "    </tr>\n",
       "    <tr>\n",
       "      <th>Epoch Osculation</th>\n",
       "      <td>-0.116087</td>\n",
       "      <td>0.061582</td>\n",
       "      <td>0.020194</td>\n",
       "      <td>0.193944</td>\n",
       "      <td>0.036152</td>\n",
       "      <td>-0.331558</td>\n",
       "      <td>0.081155</td>\n",
       "      <td>0.051062</td>\n",
       "      <td>1.000000</td>\n",
       "      <td>-0.067312</td>\n",
       "      <td>0.015879</td>\n",
       "      <td>0.017782</td>\n",
       "      <td>-0.056653</td>\n",
       "      <td>0.000093</td>\n",
       "      <td>-0.006703</td>\n",
       "      <td>-0.063625</td>\n",
       "      <td>0.977613</td>\n",
       "      <td>0.036881</td>\n",
       "      <td>0.045812</td>\n",
       "      <td>0.040940</td>\n",
       "    </tr>\n",
       "    <tr>\n",
       "      <th>Eccentricity</th>\n",
       "      <td>-0.361359</td>\n",
       "      <td>0.216623</td>\n",
       "      <td>0.495053</td>\n",
       "      <td>-0.005627</td>\n",
       "      <td>0.100314</td>\n",
       "      <td>-0.088029</td>\n",
       "      <td>0.093795</td>\n",
       "      <td>-0.478341</td>\n",
       "      <td>-0.067312</td>\n",
       "      <td>1.000000</td>\n",
       "      <td>0.039018</td>\n",
       "      <td>-0.015413</td>\n",
       "      <td>0.548521</td>\n",
       "      <td>-0.412612</td>\n",
       "      <td>-0.003210</td>\n",
       "      <td>0.701294</td>\n",
       "      <td>-0.064366</td>\n",
       "      <td>0.026161</td>\n",
       "      <td>-0.394860</td>\n",
       "      <td>0.183269</td>\n",
       "    </tr>\n",
       "    <tr>\n",
       "      <th>Inclination</th>\n",
       "      <td>-0.459632</td>\n",
       "      <td>0.259450</td>\n",
       "      <td>0.514657</td>\n",
       "      <td>0.255828</td>\n",
       "      <td>0.112125</td>\n",
       "      <td>-0.228806</td>\n",
       "      <td>0.439867</td>\n",
       "      <td>-0.037366</td>\n",
       "      <td>0.015879</td>\n",
       "      <td>0.039018</td>\n",
       "      <td>1.000000</td>\n",
       "      <td>-0.029160</td>\n",
       "      <td>-0.032227</td>\n",
       "      <td>-0.046215</td>\n",
       "      <td>0.003301</td>\n",
       "      <td>-0.021653</td>\n",
       "      <td>0.013727</td>\n",
       "      <td>0.015743</td>\n",
       "      <td>0.013188</td>\n",
       "      <td>0.009607</td>\n",
       "    </tr>\n",
       "    <tr>\n",
       "      <th>Asc Node Longitude</th>\n",
       "      <td>-0.011470</td>\n",
       "      <td>0.036558</td>\n",
       "      <td>-0.021301</td>\n",
       "      <td>-0.023033</td>\n",
       "      <td>0.047959</td>\n",
       "      <td>-0.009618</td>\n",
       "      <td>-0.008963</td>\n",
       "      <td>0.018413</td>\n",
       "      <td>0.017782</td>\n",
       "      <td>-0.015413</td>\n",
       "      <td>-0.029160</td>\n",
       "      <td>1.000000</td>\n",
       "      <td>-0.009580</td>\n",
       "      <td>0.000182</td>\n",
       "      <td>-0.020012</td>\n",
       "      <td>-0.012245</td>\n",
       "      <td>0.020059</td>\n",
       "      <td>0.029477</td>\n",
       "      <td>0.017870</td>\n",
       "      <td>0.017536</td>\n",
       "    </tr>\n",
       "    <tr>\n",
       "      <th>Orbital Period</th>\n",
       "      <td>-0.206774</td>\n",
       "      <td>0.118314</td>\n",
       "      <td>0.017961</td>\n",
       "      <td>-0.109888</td>\n",
       "      <td>0.002705</td>\n",
       "      <td>0.047535</td>\n",
       "      <td>0.279885</td>\n",
       "      <td>-0.893517</td>\n",
       "      <td>-0.056653</td>\n",
       "      <td>0.548521</td>\n",
       "      <td>-0.032227</td>\n",
       "      <td>-0.009580</td>\n",
       "      <td>1.000000</td>\n",
       "      <td>0.467209</td>\n",
       "      <td>-0.044507</td>\n",
       "      <td>0.977630</td>\n",
       "      <td>-0.058549</td>\n",
       "      <td>-0.025304</td>\n",
       "      <td>-0.859462</td>\n",
       "      <td>-0.011168</td>\n",
       "    </tr>\n",
       "    <tr>\n",
       "      <th>Perihelion Distance</th>\n",
       "      <td>0.086966</td>\n",
       "      <td>-0.071866</td>\n",
       "      <td>-0.506978</td>\n",
       "      <td>-0.079937</td>\n",
       "      <td>-0.063884</td>\n",
       "      <td>0.107946</td>\n",
       "      <td>0.299991</td>\n",
       "      <td>-0.537884</td>\n",
       "      <td>0.000093</td>\n",
       "      <td>-0.412612</td>\n",
       "      <td>-0.046215</td>\n",
       "      <td>0.000182</td>\n",
       "      <td>0.467209</td>\n",
       "      <td>1.000000</td>\n",
       "      <td>-0.053090</td>\n",
       "      <td>0.292995</td>\n",
       "      <td>-0.002854</td>\n",
       "      <td>-0.047114</td>\n",
       "      <td>-0.601118</td>\n",
       "      <td>-0.207027</td>\n",
       "    </tr>\n",
       "    <tr>\n",
       "      <th>Perihelion Arg</th>\n",
       "      <td>0.031784</td>\n",
       "      <td>-0.019577</td>\n",
       "      <td>-0.002913</td>\n",
       "      <td>-0.021483</td>\n",
       "      <td>0.001338</td>\n",
       "      <td>0.016307</td>\n",
       "      <td>-0.029130</td>\n",
       "      <td>0.064496</td>\n",
       "      <td>-0.006703</td>\n",
       "      <td>-0.003210</td>\n",
       "      <td>0.003301</td>\n",
       "      <td>-0.020012</td>\n",
       "      <td>-0.044507</td>\n",
       "      <td>-0.053090</td>\n",
       "      <td>1.000000</td>\n",
       "      <td>-0.040477</td>\n",
       "      <td>-0.004517</td>\n",
       "      <td>-0.027294</td>\n",
       "      <td>0.067008</td>\n",
       "      <td>-0.003865</td>\n",
       "    </tr>\n",
       "    <tr>\n",
       "      <th>Aphelion Dist</th>\n",
       "      <td>-0.256169</td>\n",
       "      <td>0.151836</td>\n",
       "      <td>0.144782</td>\n",
       "      <td>-0.103231</td>\n",
       "      <td>0.022269</td>\n",
       "      <td>0.020908</td>\n",
       "      <td>0.242023</td>\n",
       "      <td>-0.887879</td>\n",
       "      <td>-0.063625</td>\n",
       "      <td>0.701294</td>\n",
       "      <td>-0.021653</td>\n",
       "      <td>-0.012245</td>\n",
       "      <td>0.977630</td>\n",
       "      <td>0.292995</td>\n",
       "      <td>-0.040477</td>\n",
       "      <td>1.000000</td>\n",
       "      <td>-0.064609</td>\n",
       "      <td>-0.017011</td>\n",
       "      <td>-0.840166</td>\n",
       "      <td>0.040800</td>\n",
       "    </tr>\n",
       "    <tr>\n",
       "      <th>Perihelion Time</th>\n",
       "      <td>-0.115855</td>\n",
       "      <td>0.062167</td>\n",
       "      <td>0.020006</td>\n",
       "      <td>0.189409</td>\n",
       "      <td>0.037901</td>\n",
       "      <td>-0.325784</td>\n",
       "      <td>0.080592</td>\n",
       "      <td>0.051994</td>\n",
       "      <td>0.977613</td>\n",
       "      <td>-0.064366</td>\n",
       "      <td>0.013727</td>\n",
       "      <td>0.020059</td>\n",
       "      <td>-0.058549</td>\n",
       "      <td>-0.002854</td>\n",
       "      <td>-0.004517</td>\n",
       "      <td>-0.064609</td>\n",
       "      <td>1.000000</td>\n",
       "      <td>0.125563</td>\n",
       "      <td>0.047035</td>\n",
       "      <td>0.038113</td>\n",
       "    </tr>\n",
       "    <tr>\n",
       "      <th>Mean Anomaly</th>\n",
       "      <td>-0.049401</td>\n",
       "      <td>0.031455</td>\n",
       "      <td>0.017685</td>\n",
       "      <td>-0.010157</td>\n",
       "      <td>0.048985</td>\n",
       "      <td>-0.059396</td>\n",
       "      <td>-0.013336</td>\n",
       "      <td>0.030972</td>\n",
       "      <td>0.036881</td>\n",
       "      <td>0.026161</td>\n",
       "      <td>0.015743</td>\n",
       "      <td>0.029477</td>\n",
       "      <td>-0.025304</td>\n",
       "      <td>-0.047114</td>\n",
       "      <td>-0.027294</td>\n",
       "      <td>-0.017011</td>\n",
       "      <td>0.125563</td>\n",
       "      <td>1.000000</td>\n",
       "      <td>0.035849</td>\n",
       "      <td>0.054164</td>\n",
       "    </tr>\n",
       "    <tr>\n",
       "      <th>Mean Motion</th>\n",
       "      <td>0.195652</td>\n",
       "      <td>-0.104350</td>\n",
       "      <td>0.022452</td>\n",
       "      <td>0.104642</td>\n",
       "      <td>-0.008898</td>\n",
       "      <td>-0.023776</td>\n",
       "      <td>-0.290538</td>\n",
       "      <td>0.992680</td>\n",
       "      <td>0.045812</td>\n",
       "      <td>-0.394860</td>\n",
       "      <td>0.013188</td>\n",
       "      <td>0.017870</td>\n",
       "      <td>-0.859462</td>\n",
       "      <td>-0.601118</td>\n",
       "      <td>0.067008</td>\n",
       "      <td>-0.840166</td>\n",
       "      <td>0.047035</td>\n",
       "      <td>0.035849</td>\n",
       "      <td>1.000000</td>\n",
       "      <td>0.013028</td>\n",
       "    </tr>\n",
       "    <tr>\n",
       "      <th>Hazardous</th>\n",
       "      <td>-0.325522</td>\n",
       "      <td>0.132424</td>\n",
       "      <td>0.191970</td>\n",
       "      <td>0.032407</td>\n",
       "      <td>0.247369</td>\n",
       "      <td>-0.328721</td>\n",
       "      <td>-0.288949</td>\n",
       "      <td>-0.003404</td>\n",
       "      <td>0.040940</td>\n",
       "      <td>0.183269</td>\n",
       "      <td>0.009607</td>\n",
       "      <td>0.017536</td>\n",
       "      <td>-0.011168</td>\n",
       "      <td>-0.207027</td>\n",
       "      <td>-0.003865</td>\n",
       "      <td>0.040800</td>\n",
       "      <td>0.038113</td>\n",
       "      <td>0.054164</td>\n",
       "      <td>0.013028</td>\n",
       "      <td>1.000000</td>\n",
       "    </tr>\n",
       "  </tbody>\n",
       "</table>\n",
       "</div>"
      ],
      "text/plain": [
       "                              Absolute Magnitude  Est Dia in KM(min)  \\\n",
       "Absolute Magnitude                      1.000000           -0.613482   \n",
       "Est Dia in KM(min)                     -0.613482            1.000000   \n",
       "Relative Velocity km per sec           -0.376853            0.242141   \n",
       "Miss Dist.(kilometers)                 -0.339117            0.188027   \n",
       "Orbit ID                               -0.575668            0.724089   \n",
       "Orbit Uncertainity                      0.677764           -0.399488   \n",
       "Minimum Orbit Intersection             -0.488235            0.257904   \n",
       "Jupiter Tisserand Invariant             0.238702           -0.133582   \n",
       "Epoch Osculation                       -0.116087            0.061582   \n",
       "Eccentricity                           -0.361359            0.216623   \n",
       "Inclination                            -0.459632            0.259450   \n",
       "Asc Node Longitude                     -0.011470            0.036558   \n",
       "Orbital Period                         -0.206774            0.118314   \n",
       "Perihelion Distance                     0.086966           -0.071866   \n",
       "Perihelion Arg                          0.031784           -0.019577   \n",
       "Aphelion Dist                          -0.256169            0.151836   \n",
       "Perihelion Time                        -0.115855            0.062167   \n",
       "Mean Anomaly                           -0.049401            0.031455   \n",
       "Mean Motion                             0.195652           -0.104350   \n",
       "Hazardous                              -0.325522            0.132424   \n",
       "\n",
       "                              Relative Velocity km per sec  \\\n",
       "Absolute Magnitude                               -0.376853   \n",
       "Est Dia in KM(min)                                0.242141   \n",
       "Relative Velocity km per sec                      1.000000   \n",
       "Miss Dist.(kilometers)                            0.351694   \n",
       "Orbit ID                                          0.110679   \n",
       "Orbit Uncertainity                               -0.202234   \n",
       "Minimum Orbit Intersection                        0.076306   \n",
       "Jupiter Tisserand Invariant                      -0.052294   \n",
       "Epoch Osculation                                  0.020194   \n",
       "Eccentricity                                      0.495053   \n",
       "Inclination                                       0.514657   \n",
       "Asc Node Longitude                               -0.021301   \n",
       "Orbital Period                                    0.017961   \n",
       "Perihelion Distance                              -0.506978   \n",
       "Perihelion Arg                                   -0.002913   \n",
       "Aphelion Dist                                     0.144782   \n",
       "Perihelion Time                                   0.020006   \n",
       "Mean Anomaly                                      0.017685   \n",
       "Mean Motion                                       0.022452   \n",
       "Hazardous                                         0.191970   \n",
       "\n",
       "                              Miss Dist.(kilometers)  Orbit ID  \\\n",
       "Absolute Magnitude                         -0.339117 -0.575668   \n",
       "Est Dia in KM(min)                          0.188027  0.724089   \n",
       "Relative Velocity km per sec                0.351694  0.110679   \n",
       "Miss Dist.(kilometers)                      1.000000  0.149814   \n",
       "Orbit ID                                    0.149814  1.000000   \n",
       "Orbit Uncertainity                         -0.326158 -0.504578   \n",
       "Minimum Orbit Intersection                  0.351981  0.124283   \n",
       "Jupiter Tisserand Invariant                 0.093969 -0.019595   \n",
       "Epoch Osculation                            0.193944  0.036152   \n",
       "Eccentricity                               -0.005627  0.100314   \n",
       "Inclination                                 0.255828  0.112125   \n",
       "Asc Node Longitude                         -0.023033  0.047959   \n",
       "Orbital Period                             -0.109888  0.002705   \n",
       "Perihelion Distance                        -0.079937 -0.063884   \n",
       "Perihelion Arg                             -0.021483  0.001338   \n",
       "Aphelion Dist                              -0.103231  0.022269   \n",
       "Perihelion Time                             0.189409  0.037901   \n",
       "Mean Anomaly                               -0.010157  0.048985   \n",
       "Mean Motion                                 0.104642 -0.008898   \n",
       "Hazardous                                   0.032407  0.247369   \n",
       "\n",
       "                              Orbit Uncertainity  Minimum Orbit Intersection  \\\n",
       "Absolute Magnitude                      0.677764                   -0.488235   \n",
       "Est Dia in KM(min)                     -0.399488                    0.257904   \n",
       "Relative Velocity km per sec           -0.202234                    0.076306   \n",
       "Miss Dist.(kilometers)                 -0.326158                    0.351981   \n",
       "Orbit ID                               -0.504578                    0.124283   \n",
       "Orbit Uncertainity                      1.000000                   -0.267524   \n",
       "Minimum Orbit Intersection             -0.267524                    1.000000   \n",
       "Jupiter Tisserand Invariant            -0.008992                   -0.305849   \n",
       "Epoch Osculation                       -0.331558                    0.081155   \n",
       "Eccentricity                           -0.088029                    0.093795   \n",
       "Inclination                            -0.228806                    0.439867   \n",
       "Asc Node Longitude                     -0.009618                   -0.008963   \n",
       "Orbital Period                          0.047535                    0.279885   \n",
       "Perihelion Distance                     0.107946                    0.299991   \n",
       "Perihelion Arg                          0.016307                   -0.029130   \n",
       "Aphelion Dist                           0.020908                    0.242023   \n",
       "Perihelion Time                        -0.325784                    0.080592   \n",
       "Mean Anomaly                           -0.059396                   -0.013336   \n",
       "Mean Motion                            -0.023776                   -0.290538   \n",
       "Hazardous                              -0.328721                   -0.288949   \n",
       "\n",
       "                              Jupiter Tisserand Invariant  Epoch Osculation  \\\n",
       "Absolute Magnitude                               0.238702         -0.116087   \n",
       "Est Dia in KM(min)                              -0.133582          0.061582   \n",
       "Relative Velocity km per sec                    -0.052294          0.020194   \n",
       "Miss Dist.(kilometers)                           0.093969          0.193944   \n",
       "Orbit ID                                        -0.019595          0.036152   \n",
       "Orbit Uncertainity                              -0.008992         -0.331558   \n",
       "Minimum Orbit Intersection                      -0.305849          0.081155   \n",
       "Jupiter Tisserand Invariant                      1.000000          0.051062   \n",
       "Epoch Osculation                                 0.051062          1.000000   \n",
       "Eccentricity                                    -0.478341         -0.067312   \n",
       "Inclination                                     -0.037366          0.015879   \n",
       "Asc Node Longitude                               0.018413          0.017782   \n",
       "Orbital Period                                  -0.893517         -0.056653   \n",
       "Perihelion Distance                             -0.537884          0.000093   \n",
       "Perihelion Arg                                   0.064496         -0.006703   \n",
       "Aphelion Dist                                   -0.887879         -0.063625   \n",
       "Perihelion Time                                  0.051994          0.977613   \n",
       "Mean Anomaly                                     0.030972          0.036881   \n",
       "Mean Motion                                      0.992680          0.045812   \n",
       "Hazardous                                       -0.003404          0.040940   \n",
       "\n",
       "                              Eccentricity  Inclination  Asc Node Longitude  \\\n",
       "Absolute Magnitude               -0.361359    -0.459632           -0.011470   \n",
       "Est Dia in KM(min)                0.216623     0.259450            0.036558   \n",
       "Relative Velocity km per sec      0.495053     0.514657           -0.021301   \n",
       "Miss Dist.(kilometers)           -0.005627     0.255828           -0.023033   \n",
       "Orbit ID                          0.100314     0.112125            0.047959   \n",
       "Orbit Uncertainity               -0.088029    -0.228806           -0.009618   \n",
       "Minimum Orbit Intersection        0.093795     0.439867           -0.008963   \n",
       "Jupiter Tisserand Invariant      -0.478341    -0.037366            0.018413   \n",
       "Epoch Osculation                 -0.067312     0.015879            0.017782   \n",
       "Eccentricity                      1.000000     0.039018           -0.015413   \n",
       "Inclination                       0.039018     1.000000           -0.029160   \n",
       "Asc Node Longitude               -0.015413    -0.029160            1.000000   \n",
       "Orbital Period                    0.548521    -0.032227           -0.009580   \n",
       "Perihelion Distance              -0.412612    -0.046215            0.000182   \n",
       "Perihelion Arg                   -0.003210     0.003301           -0.020012   \n",
       "Aphelion Dist                     0.701294    -0.021653           -0.012245   \n",
       "Perihelion Time                  -0.064366     0.013727            0.020059   \n",
       "Mean Anomaly                      0.026161     0.015743            0.029477   \n",
       "Mean Motion                      -0.394860     0.013188            0.017870   \n",
       "Hazardous                         0.183269     0.009607            0.017536   \n",
       "\n",
       "                              Orbital Period  Perihelion Distance  \\\n",
       "Absolute Magnitude                 -0.206774             0.086966   \n",
       "Est Dia in KM(min)                  0.118314            -0.071866   \n",
       "Relative Velocity km per sec        0.017961            -0.506978   \n",
       "Miss Dist.(kilometers)             -0.109888            -0.079937   \n",
       "Orbit ID                            0.002705            -0.063884   \n",
       "Orbit Uncertainity                  0.047535             0.107946   \n",
       "Minimum Orbit Intersection          0.279885             0.299991   \n",
       "Jupiter Tisserand Invariant        -0.893517            -0.537884   \n",
       "Epoch Osculation                   -0.056653             0.000093   \n",
       "Eccentricity                        0.548521            -0.412612   \n",
       "Inclination                        -0.032227            -0.046215   \n",
       "Asc Node Longitude                 -0.009580             0.000182   \n",
       "Orbital Period                      1.000000             0.467209   \n",
       "Perihelion Distance                 0.467209             1.000000   \n",
       "Perihelion Arg                     -0.044507            -0.053090   \n",
       "Aphelion Dist                       0.977630             0.292995   \n",
       "Perihelion Time                    -0.058549            -0.002854   \n",
       "Mean Anomaly                       -0.025304            -0.047114   \n",
       "Mean Motion                        -0.859462            -0.601118   \n",
       "Hazardous                          -0.011168            -0.207027   \n",
       "\n",
       "                              Perihelion Arg  Aphelion Dist  Perihelion Time  \\\n",
       "Absolute Magnitude                  0.031784      -0.256169        -0.115855   \n",
       "Est Dia in KM(min)                 -0.019577       0.151836         0.062167   \n",
       "Relative Velocity km per sec       -0.002913       0.144782         0.020006   \n",
       "Miss Dist.(kilometers)             -0.021483      -0.103231         0.189409   \n",
       "Orbit ID                            0.001338       0.022269         0.037901   \n",
       "Orbit Uncertainity                  0.016307       0.020908        -0.325784   \n",
       "Minimum Orbit Intersection         -0.029130       0.242023         0.080592   \n",
       "Jupiter Tisserand Invariant         0.064496      -0.887879         0.051994   \n",
       "Epoch Osculation                   -0.006703      -0.063625         0.977613   \n",
       "Eccentricity                       -0.003210       0.701294        -0.064366   \n",
       "Inclination                         0.003301      -0.021653         0.013727   \n",
       "Asc Node Longitude                 -0.020012      -0.012245         0.020059   \n",
       "Orbital Period                     -0.044507       0.977630        -0.058549   \n",
       "Perihelion Distance                -0.053090       0.292995        -0.002854   \n",
       "Perihelion Arg                      1.000000      -0.040477        -0.004517   \n",
       "Aphelion Dist                      -0.040477       1.000000        -0.064609   \n",
       "Perihelion Time                    -0.004517      -0.064609         1.000000   \n",
       "Mean Anomaly                       -0.027294      -0.017011         0.125563   \n",
       "Mean Motion                         0.067008      -0.840166         0.047035   \n",
       "Hazardous                          -0.003865       0.040800         0.038113   \n",
       "\n",
       "                              Mean Anomaly  Mean Motion  Hazardous  \n",
       "Absolute Magnitude               -0.049401     0.195652  -0.325522  \n",
       "Est Dia in KM(min)                0.031455    -0.104350   0.132424  \n",
       "Relative Velocity km per sec      0.017685     0.022452   0.191970  \n",
       "Miss Dist.(kilometers)           -0.010157     0.104642   0.032407  \n",
       "Orbit ID                          0.048985    -0.008898   0.247369  \n",
       "Orbit Uncertainity               -0.059396    -0.023776  -0.328721  \n",
       "Minimum Orbit Intersection       -0.013336    -0.290538  -0.288949  \n",
       "Jupiter Tisserand Invariant       0.030972     0.992680  -0.003404  \n",
       "Epoch Osculation                  0.036881     0.045812   0.040940  \n",
       "Eccentricity                      0.026161    -0.394860   0.183269  \n",
       "Inclination                       0.015743     0.013188   0.009607  \n",
       "Asc Node Longitude                0.029477     0.017870   0.017536  \n",
       "Orbital Period                   -0.025304    -0.859462  -0.011168  \n",
       "Perihelion Distance              -0.047114    -0.601118  -0.207027  \n",
       "Perihelion Arg                   -0.027294     0.067008  -0.003865  \n",
       "Aphelion Dist                    -0.017011    -0.840166   0.040800  \n",
       "Perihelion Time                   0.125563     0.047035   0.038113  \n",
       "Mean Anomaly                      1.000000     0.035849   0.054164  \n",
       "Mean Motion                       0.035849     1.000000   0.013028  \n",
       "Hazardous                         0.054164     0.013028   1.000000  "
      ]
     },
     "execution_count": 9,
     "metadata": {},
     "output_type": "execute_result"
    }
   ],
   "source": [
    "df.corr()"
   ]
  },
  {
   "cell_type": "code",
   "execution_count": 10,
   "id": "8ad294e6",
   "metadata": {},
   "outputs": [
    {
     "name": "stdout",
     "output_type": "stream",
     "text": [
      "<class 'pandas.core.frame.DataFrame'>\n",
      "RangeIndex: 4687 entries, 0 to 4686\n",
      "Data columns (total 22 columns):\n",
      " #   Column                        Non-Null Count  Dtype  \n",
      "---  ------                        --------------  -----  \n",
      " 0   Absolute Magnitude            4687 non-null   float64\n",
      " 1   Est Dia in KM(min)            4687 non-null   float64\n",
      " 2   Relative Velocity km per sec  4687 non-null   float64\n",
      " 3   Miss Dist.(kilometers)        4687 non-null   float64\n",
      " 4   Orbiting Body                 4687 non-null   object \n",
      " 5   Orbit ID                      4687 non-null   int64  \n",
      " 6   Orbit Uncertainity            4687 non-null   int64  \n",
      " 7   Minimum Orbit Intersection    4687 non-null   float64\n",
      " 8   Jupiter Tisserand Invariant   4687 non-null   float64\n",
      " 9   Epoch Osculation              4687 non-null   float64\n",
      " 10  Eccentricity                  4687 non-null   float64\n",
      " 11  Inclination                   4687 non-null   float64\n",
      " 12  Asc Node Longitude            4687 non-null   float64\n",
      " 13  Orbital Period                4687 non-null   float64\n",
      " 14  Perihelion Distance           4687 non-null   float64\n",
      " 15  Perihelion Arg                4687 non-null   float64\n",
      " 16  Aphelion Dist                 4687 non-null   float64\n",
      " 17  Perihelion Time               4687 non-null   float64\n",
      " 18  Mean Anomaly                  4687 non-null   float64\n",
      " 19  Mean Motion                   4687 non-null   float64\n",
      " 20  Equinox                       4687 non-null   object \n",
      " 21  Hazardous                     4687 non-null   bool   \n",
      "dtypes: bool(1), float64(17), int64(2), object(2)\n",
      "memory usage: 773.7+ KB\n"
     ]
    }
   ],
   "source": [
    "df.info()"
   ]
  },
  {
   "cell_type": "code",
   "execution_count": 11,
   "id": "f7552a75",
   "metadata": {},
   "outputs": [
    {
     "data": {
      "text/plain": [
       "False    3932\n",
       "True      755\n",
       "Name: Hazardous, dtype: int64"
      ]
     },
     "execution_count": 11,
     "metadata": {},
     "output_type": "execute_result"
    }
   ],
   "source": [
    "df['Hazardous'].value_counts()"
   ]
  },
  {
   "cell_type": "code",
   "execution_count": 12,
   "id": "4c95fa7e",
   "metadata": {},
   "outputs": [],
   "source": [
    "encoder = LabelEncoder()\n",
    "\n",
    "df['Hazardous'] = encoder.fit_transform(df.Hazardous)\n",
    "df = df.drop(['Orbiting Body', 'Equinox'], axis = 1)"
   ]
  },
  {
   "cell_type": "code",
   "execution_count": 13,
   "id": "3a7e0ee9",
   "metadata": {},
   "outputs": [],
   "source": [
    "df_1=df.iloc[:,:-1]"
   ]
  },
  {
   "cell_type": "code",
   "execution_count": 14,
   "id": "b22205db",
   "metadata": {},
   "outputs": [],
   "source": [
    "#scaling data set\n",
    "from sklearn.preprocessing import StandardScaler\n",
    "\n",
    "# assume X is your dataset, and you want to scale it\n",
    "scaler = StandardScaler()\n",
    "df_1 = scaler.fit_transform(df_1)"
   ]
  },
  {
   "cell_type": "code",
   "execution_count": 15,
   "id": "80d20b9d",
   "metadata": {
    "scrolled": true
   },
   "outputs": [
    {
     "data": {
      "text/plain": [
       "array([[-0.23104209, -0.20941058, -1.07713904, ...,  0.45919023,\n",
       "         0.77839321, -0.43110028],\n",
       "       [-0.33482448, -0.15840557,  0.56814611, ...,  0.07081791,\n",
       "        -0.06909298,  0.31258164],\n",
       "       [-0.68076581,  0.07278876, -0.8748918 , ...,  0.41557933,\n",
       "         1.03940428, -0.52211437],\n",
       "       ...,\n",
       "       [ 0.14949337, -0.34623784, -0.92961547, ...,  0.60624482,\n",
       "         0.20776991, -0.63207867],\n",
       "       [-0.16185382, -0.23970271, -0.35910064, ...,  0.5933032 ,\n",
       "         0.2079915 , -0.56766111],\n",
       "       [-1.09278193,  0.53049632,  3.01353552, ...,  0.62542342,\n",
       "         0.03397983, -0.54733945]])"
      ]
     },
     "execution_count": 15,
     "metadata": {},
     "output_type": "execute_result"
    }
   ],
   "source": [
    "df_1"
   ]
  },
  {
   "cell_type": "code",
   "execution_count": 16,
   "id": "3b32eeb3",
   "metadata": {},
   "outputs": [
    {
     "data": {
      "text/html": [
       "<div>\n",
       "<style scoped>\n",
       "    .dataframe tbody tr th:only-of-type {\n",
       "        vertical-align: middle;\n",
       "    }\n",
       "\n",
       "    .dataframe tbody tr th {\n",
       "        vertical-align: top;\n",
       "    }\n",
       "\n",
       "    .dataframe thead th {\n",
       "        text-align: right;\n",
       "    }\n",
       "</style>\n",
       "<table border=\"1\" class=\"dataframe\">\n",
       "  <thead>\n",
       "    <tr style=\"text-align: right;\">\n",
       "      <th></th>\n",
       "      <th>Hazardous</th>\n",
       "      <th>0</th>\n",
       "      <th>1</th>\n",
       "      <th>2</th>\n",
       "      <th>3</th>\n",
       "      <th>4</th>\n",
       "      <th>5</th>\n",
       "      <th>6</th>\n",
       "      <th>7</th>\n",
       "      <th>8</th>\n",
       "      <th>9</th>\n",
       "      <th>10</th>\n",
       "      <th>11</th>\n",
       "      <th>12</th>\n",
       "      <th>13</th>\n",
       "      <th>14</th>\n",
       "      <th>15</th>\n",
       "      <th>16</th>\n",
       "      <th>17</th>\n",
       "      <th>18</th>\n",
       "    </tr>\n",
       "  </thead>\n",
       "  <tbody>\n",
       "    <tr>\n",
       "      <th>0</th>\n",
       "      <td>1</td>\n",
       "      <td>-0.231042</td>\n",
       "      <td>-0.209411</td>\n",
       "      <td>-1.077139</td>\n",
       "      <td>1.116075</td>\n",
       "      <td>-0.295089</td>\n",
       "      <td>0.481822</td>\n",
       "      <td>-0.631720</td>\n",
       "      <td>-0.341049</td>\n",
       "      <td>0.300904</td>\n",
       "      <td>0.238216</td>\n",
       "      <td>-0.671955</td>\n",
       "      <td>1.377191</td>\n",
       "      <td>-0.070049</td>\n",
       "      <td>-0.021172</td>\n",
       "      <td>-1.223886</td>\n",
       "      <td>0.019571</td>\n",
       "      <td>0.459190</td>\n",
       "      <td>0.778393</td>\n",
       "      <td>-0.431100</td>\n",
       "    </tr>\n",
       "    <tr>\n",
       "      <th>1</th>\n",
       "      <td>0</td>\n",
       "      <td>-0.334824</td>\n",
       "      <td>-0.158406</td>\n",
       "      <td>0.568146</td>\n",
       "      <td>0.865921</td>\n",
       "      <td>-0.190639</td>\n",
       "      <td>-0.167955</td>\n",
       "      <td>1.158650</td>\n",
       "      <td>0.323902</td>\n",
       "      <td>0.300904</td>\n",
       "      <td>-0.171234</td>\n",
       "      <td>1.375315</td>\n",
       "      <td>-0.343192</td>\n",
       "      <td>-0.565393</td>\n",
       "      <td>-0.393267</td>\n",
       "      <td>1.247897</td>\n",
       "      <td>-0.514802</td>\n",
       "      <td>0.070818</td>\n",
       "      <td>-0.069093</td>\n",
       "      <td>0.312582</td>\n",
       "    </tr>\n",
       "    <tr>\n",
       "      <th>2</th>\n",
       "      <td>1</td>\n",
       "      <td>-0.680766</td>\n",
       "      <td>0.072789</td>\n",
       "      <td>-0.874892</td>\n",
       "      <td>-1.411843</td>\n",
       "      <td>-0.164526</td>\n",
       "      <td>-1.142621</td>\n",
       "      <td>-0.434844</td>\n",
       "      <td>-0.403261</td>\n",
       "      <td>0.300904</td>\n",
       "      <td>-0.190223</td>\n",
       "      <td>-0.835467</td>\n",
       "      <td>0.845573</td>\n",
       "      <td>0.021563</td>\n",
       "      <td>0.567722</td>\n",
       "      <td>0.623011</td>\n",
       "      <td>-0.021323</td>\n",
       "      <td>0.415579</td>\n",
       "      <td>1.039404</td>\n",
       "      <td>-0.522114</td>\n",
       "    </tr>\n",
       "    <tr>\n",
       "      <th>3</th>\n",
       "      <td>0</td>\n",
       "      <td>1.775418</td>\n",
       "      <td>-0.529864</td>\n",
       "      <td>-0.383539</td>\n",
       "      <td>0.195800</td>\n",
       "      <td>-0.556216</td>\n",
       "      <td>0.806711</td>\n",
       "      <td>-0.850681</td>\n",
       "      <td>0.029805</td>\n",
       "      <td>0.300904</td>\n",
       "      <td>-0.920002</td>\n",
       "      <td>-0.500038</td>\n",
       "      <td>-1.113477</td>\n",
       "      <td>-0.327568</td>\n",
       "      <td>0.704524</td>\n",
       "      <td>-1.596341</td>\n",
       "      <td>-0.482690</td>\n",
       "      <td>0.184540</td>\n",
       "      <td>-1.045928</td>\n",
       "      <td>-0.110818</td>\n",
       "    </tr>\n",
       "    <tr>\n",
       "      <th>4</th>\n",
       "      <td>1</td>\n",
       "      <td>-0.231042</td>\n",
       "      <td>-0.209411</td>\n",
       "      <td>-0.566337</td>\n",
       "      <td>1.036159</td>\n",
       "      <td>-0.086188</td>\n",
       "      <td>-0.817732</td>\n",
       "      <td>-0.526325</td>\n",
       "      <td>0.079090</td>\n",
       "      <td>0.300904</td>\n",
       "      <td>-0.953979</td>\n",
       "      <td>0.312713</td>\n",
       "      <td>-0.847599</td>\n",
       "      <td>-0.377402</td>\n",
       "      <td>0.637529</td>\n",
       "      <td>-0.248001</td>\n",
       "      <td>-0.529316</td>\n",
       "      <td>0.091457</td>\n",
       "      <td>-0.428186</td>\n",
       "      <td>-0.034580</td>\n",
       "    </tr>\n",
       "  </tbody>\n",
       "</table>\n",
       "</div>"
      ],
      "text/plain": [
       "   Hazardous         0         1         2         3         4         5  \\\n",
       "0          1 -0.231042 -0.209411 -1.077139  1.116075 -0.295089  0.481822   \n",
       "1          0 -0.334824 -0.158406  0.568146  0.865921 -0.190639 -0.167955   \n",
       "2          1 -0.680766  0.072789 -0.874892 -1.411843 -0.164526 -1.142621   \n",
       "3          0  1.775418 -0.529864 -0.383539  0.195800 -0.556216  0.806711   \n",
       "4          1 -0.231042 -0.209411 -0.566337  1.036159 -0.086188 -0.817732   \n",
       "\n",
       "          6         7         8         9        10        11        12  \\\n",
       "0 -0.631720 -0.341049  0.300904  0.238216 -0.671955  1.377191 -0.070049   \n",
       "1  1.158650  0.323902  0.300904 -0.171234  1.375315 -0.343192 -0.565393   \n",
       "2 -0.434844 -0.403261  0.300904 -0.190223 -0.835467  0.845573  0.021563   \n",
       "3 -0.850681  0.029805  0.300904 -0.920002 -0.500038 -1.113477 -0.327568   \n",
       "4 -0.526325  0.079090  0.300904 -0.953979  0.312713 -0.847599 -0.377402   \n",
       "\n",
       "         13        14        15        16        17        18  \n",
       "0 -0.021172 -1.223886  0.019571  0.459190  0.778393 -0.431100  \n",
       "1 -0.393267  1.247897 -0.514802  0.070818 -0.069093  0.312582  \n",
       "2  0.567722  0.623011 -0.021323  0.415579  1.039404 -0.522114  \n",
       "3  0.704524 -1.596341 -0.482690  0.184540 -1.045928 -0.110818  \n",
       "4  0.637529 -0.248001 -0.529316  0.091457 -0.428186 -0.034580  "
      ]
     },
     "execution_count": 16,
     "metadata": {},
     "output_type": "execute_result"
    }
   ],
   "source": [
    "df_2 = pd.concat([df.iloc[:,-1], pd.DataFrame(df_1)], axis=1)\n",
    "df_2.head()"
   ]
  },
  {
   "cell_type": "code",
   "execution_count": 108,
   "id": "18d92d92",
   "metadata": {},
   "outputs": [
    {
     "name": "stdout",
     "output_type": "stream",
     "text": [
      "<class 'pandas.core.frame.DataFrame'>\n",
      "RangeIndex: 4687 entries, 0 to 4686\n",
      "Data columns (total 20 columns):\n",
      " #   Column     Non-Null Count  Dtype  \n",
      "---  ------     --------------  -----  \n",
      " 0   Hazardous  4687 non-null   int64  \n",
      " 1   0          4687 non-null   float64\n",
      " 2   1          4687 non-null   float64\n",
      " 3   2          4687 non-null   float64\n",
      " 4   3          4687 non-null   float64\n",
      " 5   4          4687 non-null   float64\n",
      " 6   5          4687 non-null   float64\n",
      " 7   6          4687 non-null   float64\n",
      " 8   7          4687 non-null   float64\n",
      " 9   8          4687 non-null   float64\n",
      " 10  9          4687 non-null   float64\n",
      " 11  10         4687 non-null   float64\n",
      " 12  11         4687 non-null   float64\n",
      " 13  12         4687 non-null   float64\n",
      " 14  13         4687 non-null   float64\n",
      " 15  14         4687 non-null   float64\n",
      " 16  15         4687 non-null   float64\n",
      " 17  16         4687 non-null   float64\n",
      " 18  17         4687 non-null   float64\n",
      " 19  18         4687 non-null   float64\n",
      "dtypes: float64(19), int64(1)\n",
      "memory usage: 732.5 KB\n"
     ]
    }
   ],
   "source": [
    "df_2.info()"
   ]
  },
  {
   "cell_type": "code",
   "execution_count": 17,
   "id": "9868c898",
   "metadata": {},
   "outputs": [],
   "source": [
    "train_df, test_df = train_test_split(df_2, test_size=0.2, random_state=321)\n",
    "train_df[\"Hazardous\"] = train_df[\"Hazardous\"]\n",
    "test_df[\"Hazardous\"] = test_df[\"Hazardous\"]"
   ]
  },
  {
   "cell_type": "code",
   "execution_count": 18,
   "id": "db391cf9",
   "metadata": {},
   "outputs": [],
   "source": [
    "X_train = train_df.drop(columns=\"Hazardous\")\n",
    "y_train = train_df[\"Hazardous\"]\n",
    "X_test = test_df.drop(columns=\"Hazardous\")\n",
    "y_test = test_df[\"Hazardous\"]"
   ]
  },
  {
   "cell_type": "code",
   "execution_count": 19,
   "id": "a4e4fc1d",
   "metadata": {},
   "outputs": [
    {
     "data": {
      "text/html": [
       "<div>\n",
       "<style scoped>\n",
       "    .dataframe tbody tr th:only-of-type {\n",
       "        vertical-align: middle;\n",
       "    }\n",
       "\n",
       "    .dataframe tbody tr th {\n",
       "        vertical-align: top;\n",
       "    }\n",
       "\n",
       "    .dataframe thead th {\n",
       "        text-align: right;\n",
       "    }\n",
       "</style>\n",
       "<table border=\"1\" class=\"dataframe\">\n",
       "  <thead>\n",
       "    <tr style=\"text-align: right;\">\n",
       "      <th></th>\n",
       "      <th>0</th>\n",
       "      <th>1</th>\n",
       "      <th>2</th>\n",
       "      <th>3</th>\n",
       "      <th>4</th>\n",
       "      <th>5</th>\n",
       "      <th>6</th>\n",
       "      <th>7</th>\n",
       "      <th>8</th>\n",
       "      <th>9</th>\n",
       "      <th>10</th>\n",
       "      <th>11</th>\n",
       "      <th>12</th>\n",
       "      <th>13</th>\n",
       "      <th>14</th>\n",
       "      <th>15</th>\n",
       "      <th>16</th>\n",
       "      <th>17</th>\n",
       "      <th>18</th>\n",
       "    </tr>\n",
       "  </thead>\n",
       "  <tbody>\n",
       "    <tr>\n",
       "      <th>2166</th>\n",
       "      <td>1.118129</td>\n",
       "      <td>-0.496547</td>\n",
       "      <td>0.099675</td>\n",
       "      <td>-0.200284</td>\n",
       "      <td>-0.477878</td>\n",
       "      <td>1.131599</td>\n",
       "      <td>-0.690449</td>\n",
       "      <td>0.012030</td>\n",
       "      <td>0.300904</td>\n",
       "      <td>-0.579665</td>\n",
       "      <td>-0.379231</td>\n",
       "      <td>0.744499</td>\n",
       "      <td>-0.325530</td>\n",
       "      <td>0.389566</td>\n",
       "      <td>-1.123987</td>\n",
       "      <td>-0.399980</td>\n",
       "      <td>0.178794</td>\n",
       "      <td>-1.011578</td>\n",
       "      <td>-0.113819</td>\n",
       "    </tr>\n",
       "    <tr>\n",
       "      <th>2147</th>\n",
       "      <td>-1.338054</td>\n",
       "      <td>0.949116</td>\n",
       "      <td>0.542706</td>\n",
       "      <td>0.147577</td>\n",
       "      <td>0.122713</td>\n",
       "      <td>-0.817732</td>\n",
       "      <td>-0.489311</td>\n",
       "      <td>2.985319</td>\n",
       "      <td>0.300904</td>\n",
       "      <td>0.823773</td>\n",
       "      <td>0.509470</td>\n",
       "      <td>-1.308521</td>\n",
       "      <td>-1.215004</td>\n",
       "      <td>-2.130255</td>\n",
       "      <td>1.633404</td>\n",
       "      <td>-1.066305</td>\n",
       "      <td>0.312701</td>\n",
       "      <td>1.250084</td>\n",
       "      <td>3.527705</td>\n",
       "    </tr>\n",
       "    <tr>\n",
       "      <th>3071</th>\n",
       "      <td>0.114899</td>\n",
       "      <td>-0.336461</td>\n",
       "      <td>-0.366971</td>\n",
       "      <td>-1.533306</td>\n",
       "      <td>-0.138413</td>\n",
       "      <td>0.156934</td>\n",
       "      <td>-0.614313</td>\n",
       "      <td>-0.509912</td>\n",
       "      <td>0.300904</td>\n",
       "      <td>-0.014627</td>\n",
       "      <td>-0.080379</td>\n",
       "      <td>-1.452665</td>\n",
       "      <td>0.108378</td>\n",
       "      <td>0.500412</td>\n",
       "      <td>0.457871</td>\n",
       "      <td>0.097256</td>\n",
       "      <td>0.005842</td>\n",
       "      <td>-0.362809</td>\n",
       "      <td>-0.599916</td>\n",
       "    </tr>\n",
       "    <tr>\n",
       "      <th>448</th>\n",
       "      <td>-0.957519</td>\n",
       "      <td>0.351844</td>\n",
       "      <td>1.010954</td>\n",
       "      <td>1.134476</td>\n",
       "      <td>0.070488</td>\n",
       "      <td>-1.142621</td>\n",
       "      <td>0.287738</td>\n",
       "      <td>-1.022158</td>\n",
       "      <td>0.300904</td>\n",
       "      <td>0.548203</td>\n",
       "      <td>2.393111</td>\n",
       "      <td>-1.044445</td>\n",
       "      <td>0.521651</td>\n",
       "      <td>0.339534</td>\n",
       "      <td>-0.714461</td>\n",
       "      <td>0.600770</td>\n",
       "      <td>0.649963</td>\n",
       "      <td>0.285158</td>\n",
       "      <td>-0.887418</td>\n",
       "    </tr>\n",
       "    <tr>\n",
       "      <th>1055</th>\n",
       "      <td>-0.732311</td>\n",
       "      <td>0.117284</td>\n",
       "      <td>0.793859</td>\n",
       "      <td>1.091159</td>\n",
       "      <td>-0.530103</td>\n",
       "      <td>0.806711</td>\n",
       "      <td>0.692864</td>\n",
       "      <td>0.277848</td>\n",
       "      <td>0.300904</td>\n",
       "      <td>-0.790408</td>\n",
       "      <td>2.591078</td>\n",
       "      <td>-0.899062</td>\n",
       "      <td>-0.578689</td>\n",
       "      <td>0.091136</td>\n",
       "      <td>-1.667936</td>\n",
       "      <td>-0.656043</td>\n",
       "      <td>0.471480</td>\n",
       "      <td>0.289278</td>\n",
       "      <td>0.341490</td>\n",
       "    </tr>\n",
       "  </tbody>\n",
       "</table>\n",
       "</div>"
      ],
      "text/plain": [
       "             0         1         2         3         4         5         6  \\\n",
       "2166  1.118129 -0.496547  0.099675 -0.200284 -0.477878  1.131599 -0.690449   \n",
       "2147 -1.338054  0.949116  0.542706  0.147577  0.122713 -0.817732 -0.489311   \n",
       "3071  0.114899 -0.336461 -0.366971 -1.533306 -0.138413  0.156934 -0.614313   \n",
       "448  -0.957519  0.351844  1.010954  1.134476  0.070488 -1.142621  0.287738   \n",
       "1055 -0.732311  0.117284  0.793859  1.091159 -0.530103  0.806711  0.692864   \n",
       "\n",
       "             7         8         9        10        11        12        13  \\\n",
       "2166  0.012030  0.300904 -0.579665 -0.379231  0.744499 -0.325530  0.389566   \n",
       "2147  2.985319  0.300904  0.823773  0.509470 -1.308521 -1.215004 -2.130255   \n",
       "3071 -0.509912  0.300904 -0.014627 -0.080379 -1.452665  0.108378  0.500412   \n",
       "448  -1.022158  0.300904  0.548203  2.393111 -1.044445  0.521651  0.339534   \n",
       "1055  0.277848  0.300904 -0.790408  2.591078 -0.899062 -0.578689  0.091136   \n",
       "\n",
       "            14        15        16        17        18  \n",
       "2166 -1.123987 -0.399980  0.178794 -1.011578 -0.113819  \n",
       "2147  1.633404 -1.066305  0.312701  1.250084  3.527705  \n",
       "3071  0.457871  0.097256  0.005842 -0.362809 -0.599916  \n",
       "448  -0.714461  0.600770  0.649963  0.285158 -0.887418  \n",
       "1055 -1.667936 -0.656043  0.471480  0.289278  0.341490  "
      ]
     },
     "execution_count": 19,
     "metadata": {},
     "output_type": "execute_result"
    }
   ],
   "source": [
    "X_train.head()"
   ]
  },
  {
   "cell_type": "code",
   "execution_count": 20,
   "id": "b6fd0290",
   "metadata": {},
   "outputs": [
    {
     "data": {
      "text/plain": [
       "2166    0\n",
       "2147    1\n",
       "3071    0\n",
       "448     0\n",
       "1055    0\n",
       "Name: Hazardous, dtype: int64"
      ]
     },
     "execution_count": 20,
     "metadata": {},
     "output_type": "execute_result"
    }
   ],
   "source": [
    "y_train.head()"
   ]
  },
  {
   "cell_type": "code",
   "execution_count": 21,
   "id": "00dae716",
   "metadata": {},
   "outputs": [
    {
     "data": {
      "text/html": [
       "<div>\n",
       "<style scoped>\n",
       "    .dataframe tbody tr th:only-of-type {\n",
       "        vertical-align: middle;\n",
       "    }\n",
       "\n",
       "    .dataframe tbody tr th {\n",
       "        vertical-align: top;\n",
       "    }\n",
       "\n",
       "    .dataframe thead th {\n",
       "        text-align: right;\n",
       "    }\n",
       "</style>\n",
       "<table border=\"1\" class=\"dataframe\">\n",
       "  <thead>\n",
       "    <tr style=\"text-align: right;\">\n",
       "      <th></th>\n",
       "      <th>0</th>\n",
       "      <th>1</th>\n",
       "      <th>2</th>\n",
       "      <th>3</th>\n",
       "      <th>4</th>\n",
       "      <th>5</th>\n",
       "      <th>6</th>\n",
       "      <th>7</th>\n",
       "      <th>8</th>\n",
       "      <th>9</th>\n",
       "      <th>10</th>\n",
       "      <th>11</th>\n",
       "      <th>12</th>\n",
       "      <th>13</th>\n",
       "      <th>14</th>\n",
       "      <th>15</th>\n",
       "      <th>16</th>\n",
       "      <th>17</th>\n",
       "      <th>18</th>\n",
       "    </tr>\n",
       "  </thead>\n",
       "  <tbody>\n",
       "    <tr>\n",
       "      <th>1238</th>\n",
       "      <td>-0.542389</td>\n",
       "      <td>-0.032606</td>\n",
       "      <td>-0.171102</td>\n",
       "      <td>0.784133</td>\n",
       "      <td>-0.556216</td>\n",
       "      <td>0.156934</td>\n",
       "      <td>0.372486</td>\n",
       "      <td>0.643046</td>\n",
       "      <td>0.300904</td>\n",
       "      <td>0.970809</td>\n",
       "      <td>0.284958</td>\n",
       "      <td>-1.636287</td>\n",
       "      <td>-0.713527</td>\n",
       "      <td>-1.514450</td>\n",
       "      <td>-1.466080</td>\n",
       "      <td>-0.434453</td>\n",
       "      <td>0.380309</td>\n",
       "      <td>0.881162</td>\n",
       "      <td>0.678089</td>\n",
       "    </tr>\n",
       "    <tr>\n",
       "      <th>1415</th>\n",
       "      <td>0.114899</td>\n",
       "      <td>-0.336461</td>\n",
       "      <td>-0.668899</td>\n",
       "      <td>-1.036798</td>\n",
       "      <td>-0.347315</td>\n",
       "      <td>0.481822</td>\n",
       "      <td>0.210443</td>\n",
       "      <td>-0.013017</td>\n",
       "      <td>0.300904</td>\n",
       "      <td>-1.236163</td>\n",
       "      <td>0.333101</td>\n",
       "      <td>-0.230144</td>\n",
       "      <td>-0.309978</td>\n",
       "      <td>1.037341</td>\n",
       "      <td>-0.529249</td>\n",
       "      <td>-0.545066</td>\n",
       "      <td>0.314731</td>\n",
       "      <td>1.504459</td>\n",
       "      <td>-0.136434</td>\n",
       "    </tr>\n",
       "    <tr>\n",
       "      <th>2961</th>\n",
       "      <td>0.772188</td>\n",
       "      <td>-0.463129</td>\n",
       "      <td>-0.358999</td>\n",
       "      <td>-1.352945</td>\n",
       "      <td>-0.425653</td>\n",
       "      <td>1.456488</td>\n",
       "      <td>-0.304523</td>\n",
       "      <td>-0.287723</td>\n",
       "      <td>-2.410465</td>\n",
       "      <td>-0.629078</td>\n",
       "      <td>0.534963</td>\n",
       "      <td>0.500143</td>\n",
       "      <td>-0.111594</td>\n",
       "      <td>0.816587</td>\n",
       "      <td>0.290474</td>\n",
       "      <td>-0.243605</td>\n",
       "      <td>-2.320310</td>\n",
       "      <td>1.483654</td>\n",
       "      <td>-0.386396</td>\n",
       "    </tr>\n",
       "    <tr>\n",
       "      <th>3890</th>\n",
       "      <td>-0.957519</td>\n",
       "      <td>0.351844</td>\n",
       "      <td>-0.513822</td>\n",
       "      <td>-1.084944</td>\n",
       "      <td>1.350009</td>\n",
       "      <td>-1.142621</td>\n",
       "      <td>-0.051049</td>\n",
       "      <td>-1.198293</td>\n",
       "      <td>0.300904</td>\n",
       "      <td>0.696062</td>\n",
       "      <td>-0.488927</td>\n",
       "      <td>-1.519584</td>\n",
       "      <td>1.256011</td>\n",
       "      <td>0.880992</td>\n",
       "      <td>0.425060</td>\n",
       "      <td>1.220060</td>\n",
       "      <td>0.177566</td>\n",
       "      <td>-1.366939</td>\n",
       "      <td>-1.200856</td>\n",
       "    </tr>\n",
       "    <tr>\n",
       "      <th>2824</th>\n",
       "      <td>0.287870</td>\n",
       "      <td>-0.381137</td>\n",
       "      <td>-0.748159</td>\n",
       "      <td>-1.221203</td>\n",
       "      <td>-0.060075</td>\n",
       "      <td>-1.142621</td>\n",
       "      <td>-0.659716</td>\n",
       "      <td>-1.102954</td>\n",
       "      <td>0.300904</td>\n",
       "      <td>0.622748</td>\n",
       "      <td>-1.142076</td>\n",
       "      <td>-0.841765</td>\n",
       "      <td>1.048060</td>\n",
       "      <td>0.789271</td>\n",
       "      <td>-1.203807</td>\n",
       "      <td>1.036085</td>\n",
       "      <td>0.627464</td>\n",
       "      <td>0.617386</td>\n",
       "      <td>-1.129018</td>\n",
       "    </tr>\n",
       "  </tbody>\n",
       "</table>\n",
       "</div>"
      ],
      "text/plain": [
       "             0         1         2         3         4         5         6  \\\n",
       "1238 -0.542389 -0.032606 -0.171102  0.784133 -0.556216  0.156934  0.372486   \n",
       "1415  0.114899 -0.336461 -0.668899 -1.036798 -0.347315  0.481822  0.210443   \n",
       "2961  0.772188 -0.463129 -0.358999 -1.352945 -0.425653  1.456488 -0.304523   \n",
       "3890 -0.957519  0.351844 -0.513822 -1.084944  1.350009 -1.142621 -0.051049   \n",
       "2824  0.287870 -0.381137 -0.748159 -1.221203 -0.060075 -1.142621 -0.659716   \n",
       "\n",
       "             7         8         9        10        11        12        13  \\\n",
       "1238  0.643046  0.300904  0.970809  0.284958 -1.636287 -0.713527 -1.514450   \n",
       "1415 -0.013017  0.300904 -1.236163  0.333101 -0.230144 -0.309978  1.037341   \n",
       "2961 -0.287723 -2.410465 -0.629078  0.534963  0.500143 -0.111594  0.816587   \n",
       "3890 -1.198293  0.300904  0.696062 -0.488927 -1.519584  1.256011  0.880992   \n",
       "2824 -1.102954  0.300904  0.622748 -1.142076 -0.841765  1.048060  0.789271   \n",
       "\n",
       "            14        15        16        17        18  \n",
       "1238 -1.466080 -0.434453  0.380309  0.881162  0.678089  \n",
       "1415 -0.529249 -0.545066  0.314731  1.504459 -0.136434  \n",
       "2961  0.290474 -0.243605 -2.320310  1.483654 -0.386396  \n",
       "3890  0.425060  1.220060  0.177566 -1.366939 -1.200856  \n",
       "2824 -1.203807  1.036085  0.627464  0.617386 -1.129018  "
      ]
     },
     "execution_count": 21,
     "metadata": {},
     "output_type": "execute_result"
    }
   ],
   "source": [
    "X_test.head()"
   ]
  },
  {
   "cell_type": "code",
   "execution_count": 22,
   "id": "20efe28a",
   "metadata": {},
   "outputs": [
    {
     "data": {
      "text/plain": [
       "1238    0\n",
       "1415    0\n",
       "2961    0\n",
       "3890    0\n",
       "2824    0\n",
       "Name: Hazardous, dtype: int64"
      ]
     },
     "execution_count": 22,
     "metadata": {},
     "output_type": "execute_result"
    }
   ],
   "source": [
    "y_test.head()"
   ]
  },
  {
   "cell_type": "code",
   "execution_count": 23,
   "id": "de8f26ae",
   "metadata": {},
   "outputs": [
    {
     "data": {
      "text/plain": [
       "0    781\n",
       "1    157\n",
       "Name: Hazardous, dtype: int64"
      ]
     },
     "execution_count": 23,
     "metadata": {},
     "output_type": "execute_result"
    }
   ],
   "source": [
    "y_test.value_counts()"
   ]
  },
  {
   "cell_type": "markdown",
   "id": "28640ed4",
   "metadata": {},
   "source": [
    "##LINEAR Kernal"
   ]
  },
  {
   "cell_type": "code",
   "execution_count": 24,
   "id": "3a23a8c7",
   "metadata": {},
   "outputs": [
    {
     "name": "stdout",
     "output_type": "stream",
     "text": [
      "Cost value: 0.1 Accuracy: 0.9488272921108742\n",
      "Cost value: 1 Accuracy: 0.9488272921108742\n",
      "Cost value: 10 Accuracy: 0.9477611940298507\n",
      "Cost value: 100 Accuracy: 0.9477611940298507\n"
     ]
    }
   ],
   "source": [
    "costs = [0.1, 1, 10, 100]\n",
    "\n",
    "# train an SVM model with different cost values\n",
    "for c in costs:\n",
    "    svc = SVC(kernel='linear', C=c)\n",
    "    svc.fit(X_train, y_train)\n",
    "    y_pred = svc.predict(X_test)\n",
    "    acc = accuracy_score(y_test, y_pred)\n",
    "    print(\"Cost value:\", c, \"Accuracy:\", acc)"
   ]
  },
  {
   "cell_type": "code",
   "execution_count": 111,
   "id": "0c22c170",
   "metadata": {},
   "outputs": [],
   "source": [
    "svm = SVC()"
   ]
  },
  {
   "cell_type": "code",
   "execution_count": 112,
   "id": "f346b2fa",
   "metadata": {},
   "outputs": [
    {
     "data": {
      "text/plain": [
       "SVC()"
      ]
     },
     "execution_count": 112,
     "metadata": {},
     "output_type": "execute_result"
    }
   ],
   "source": [
    "svm.fit(X_train,y_train)"
   ]
  },
  {
   "cell_type": "code",
   "execution_count": 113,
   "id": "eafe4f78",
   "metadata": {},
   "outputs": [],
   "source": [
    "svm_pred= svm.predict(X_test)"
   ]
  },
  {
   "cell_type": "code",
   "execution_count": 114,
   "id": "b6991051",
   "metadata": {},
   "outputs": [
    {
     "data": {
      "text/plain": [
       "array([[773,   8],\n",
       "       [ 42, 115]], dtype=int64)"
      ]
     },
     "execution_count": 114,
     "metadata": {},
     "output_type": "execute_result"
    }
   ],
   "source": [
    "cm = confusion_matrix(y_test, svm_pred)\n",
    "cm"
   ]
  },
  {
   "cell_type": "code",
   "execution_count": 115,
   "id": "0c4b76f4",
   "metadata": {},
   "outputs": [
    {
     "data": {
      "image/png": "[encoded data removed]",
      "text/plain": [
       "<Figure size 1080x576 with 2 Axes>"
      ]
     },
     "metadata": {
      "needs_background": "light"
     },
     "output_type": "display_data"
    }
   ],
   "source": [
    "plt.figure(figsize = (15,8))\n",
    "sns.heatmap(cm, annot = True, fmt = 'd', cmap = \"Blues\")\n",
    "plt.xlabel(\"Predicted \")\n",
    "plt.ylabel(\"Actual \")\n",
    "plt.title('Linear kernal SVM for 1 cost value')\n",
    "plt.show()"
   ]
  },
  {
   "cell_type": "code",
   "execution_count": 116,
   "id": "b15289cf",
   "metadata": {},
   "outputs": [
    {
     "data": {
      "text/plain": [
       "0.9466950959488273"
      ]
     },
     "execution_count": 116,
     "metadata": {},
     "output_type": "execute_result"
    }
   ],
   "source": [
    "accuracy_score(y_test, svm_pred)"
   ]
  },
  {
   "cell_type": "code",
   "execution_count": 84,
   "id": "93a93190",
   "metadata": {},
   "outputs": [],
   "source": [
    "svm_lin = SVC(kernel = \"linear\", C = 10)"
   ]
  },
  {
   "cell_type": "code",
   "execution_count": 85,
   "id": "11caa581",
   "metadata": {},
   "outputs": [
    {
     "data": {
      "text/plain": [
       "SVC(C=10, kernel='linear')"
      ]
     },
     "execution_count": 85,
     "metadata": {},
     "output_type": "execute_result"
    }
   ],
   "source": [
    "svm_lin.fit(X_train,y_train)"
   ]
  },
  {
   "cell_type": "code",
   "execution_count": 86,
   "id": "3eb1c6d1",
   "metadata": {},
   "outputs": [],
   "source": [
    "y_pred_lin1 = svm_lin.predict(X_test)"
   ]
  },
  {
   "cell_type": "code",
   "execution_count": 87,
   "id": "1e6ff9e1",
   "metadata": {},
   "outputs": [
    {
     "data": {
      "text/plain": [
       "array([[767,  14],\n",
       "       [ 35, 122]], dtype=int64)"
      ]
     },
     "execution_count": 87,
     "metadata": {},
     "output_type": "execute_result"
    }
   ],
   "source": [
    "cm = confusion_matrix(y_test, y_pred_lin1)\n",
    "cm"
   ]
  },
  {
   "cell_type": "code",
   "execution_count": 88,
   "id": "0e209686",
   "metadata": {},
   "outputs": [
    {
     "data": {
      "image/png": "[encoded data removed]",
      "text/plain": [
       "<Figure size 1080x576 with 2 Axes>"
      ]
     },
     "metadata": {
      "needs_background": "light"
     },
     "output_type": "display_data"
    }
   ],
   "source": [
    "plt.figure(figsize = (15,8))\n",
    "sns.heatmap(cm, annot = True, fmt = 'd', cmap = \"Blues\")\n",
    "plt.xlabel(\"Predicted \")\n",
    "plt.ylabel(\"Actual \")\n",
    "plt.title('Linear kernal SVM for 10 cost value')\n",
    "plt.show()"
   ]
  },
  {
   "cell_type": "code",
   "execution_count": 89,
   "id": "a347fd2e",
   "metadata": {},
   "outputs": [
    {
     "data": {
      "text/plain": [
       "0.9477611940298507"
      ]
     },
     "execution_count": 89,
     "metadata": {},
     "output_type": "execute_result"
    }
   ],
   "source": [
    "accuracy_score(y_test, y_pred_lin1)"
   ]
  },
  {
   "cell_type": "code",
   "execution_count": 90,
   "id": "bc1c8105",
   "metadata": {},
   "outputs": [],
   "source": [
    "svm_lin = SVC(kernel = \"linear\", C = 0.1)"
   ]
  },
  {
   "cell_type": "code",
   "execution_count": 91,
   "id": "43d33f3d",
   "metadata": {},
   "outputs": [
    {
     "data": {
      "text/plain": [
       "SVC(C=0.1, kernel='linear')"
      ]
     },
     "execution_count": 91,
     "metadata": {},
     "output_type": "execute_result"
    }
   ],
   "source": [
    "svm_lin.fit(X_train,y_train)"
   ]
  },
  {
   "cell_type": "code",
   "execution_count": 92,
   "id": "efc76e33",
   "metadata": {},
   "outputs": [],
   "source": [
    "y_pred_lin2 = svm_lin.predict(X_test)"
   ]
  },
  {
   "cell_type": "code",
   "execution_count": 93,
   "id": "7d3d9395",
   "metadata": {},
   "outputs": [
    {
     "data": {
      "text/plain": [
       "array([[766,  15],\n",
       "       [ 33, 124]], dtype=int64)"
      ]
     },
     "execution_count": 93,
     "metadata": {},
     "output_type": "execute_result"
    }
   ],
   "source": [
    "cm = confusion_matrix(y_test, y_pred_lin2)\n",
    "cm"
   ]
  },
  {
   "cell_type": "code",
   "execution_count": 94,
   "id": "09272409",
   "metadata": {},
   "outputs": [
    {
     "data": {
      "text/plain": [
       "0.9488272921108742"
      ]
     },
     "execution_count": 94,
     "metadata": {},
     "output_type": "execute_result"
    }
   ],
   "source": [
    "accuracy_score(y_test, y_pred_lin2)"
   ]
  },
  {
   "cell_type": "code",
   "execution_count": 95,
   "id": "9d80948a",
   "metadata": {
    "scrolled": true
   },
   "outputs": [
    {
     "data": {
      "image/png": "[encoded data removed]",
      "text/plain": [
       "<Figure size 1080x576 with 2 Axes>"
      ]
     },
     "metadata": {
      "needs_background": "light"
     },
     "output_type": "display_data"
    }
   ],
   "source": [
    "plt.figure(figsize = (15,8))\n",
    "sns.heatmap(cm, annot = True, fmt = 'd', cmap = \"Blues\")\n",
    "plt.xlabel(\"Predicted \")\n",
    "plt.ylabel(\"Actual\")\n",
    "plt.title('Linear kernal SVM for 0.1 cost value')\n",
    "plt.show()"
   ]
  },
  {
   "cell_type": "markdown",
   "id": "9a45d602",
   "metadata": {},
   "source": [
    "####changing c  parameter for rbf"
   ]
  },
  {
   "cell_type": "code",
   "execution_count": 46,
   "id": "5e760d4a",
   "metadata": {},
   "outputs": [
    {
     "name": "stdout",
     "output_type": "stream",
     "text": [
      "Accuracy: 0.860 for {'C': 0.1, 'gamma': 0.1}\n",
      "Accuracy: 0.840 for {'C': 0.1, 'gamma': 1}\n",
      "Accuracy: 0.840 for {'C': 0.1, 'gamma': 10}\n",
      "Accuracy: 0.840 for {'C': 0.1, 'gamma': 50}\n",
      "Accuracy: 0.840 for {'C': 0.1, 'gamma': 100}\n",
      "Accuracy: 0.840 for {'C': 0.1, 'gamma': 200}\n",
      "Accuracy: 0.840 for {'C': 0.1, 'gamma': 500}\n",
      "Accuracy: 0.840 for {'C': 0.1, 'gamma': 1000}\n",
      "Accuracy: 0.941 for {'C': 1, 'gamma': 0.1}\n",
      "Accuracy: 0.859 for {'C': 1, 'gamma': 1}\n",
      "Accuracy: 0.847 for {'C': 1, 'gamma': 10}\n",
      "Accuracy: 0.845 for {'C': 1, 'gamma': 50}\n",
      "Accuracy: 0.845 for {'C': 1, 'gamma': 100}\n",
      "Accuracy: 0.844 for {'C': 1, 'gamma': 200}\n",
      "Accuracy: 0.842 for {'C': 1, 'gamma': 500}\n",
      "Accuracy: 0.841 for {'C': 1, 'gamma': 1000}\n",
      "Accuracy: 0.961 for {'C': 10, 'gamma': 0.1}\n",
      "Accuracy: 0.870 for {'C': 10, 'gamma': 1}\n",
      "Accuracy: 0.851 for {'C': 10, 'gamma': 10}\n",
      "Accuracy: 0.846 for {'C': 10, 'gamma': 50}\n",
      "Accuracy: 0.845 for {'C': 10, 'gamma': 100}\n",
      "Accuracy: 0.844 for {'C': 10, 'gamma': 200}\n",
      "Accuracy: 0.844 for {'C': 10, 'gamma': 500}\n",
      "Accuracy: 0.843 for {'C': 10, 'gamma': 1000}\n",
      "Accuracy: 0.958 for {'C': 50, 'gamma': 0.1}\n",
      "Accuracy: 0.870 for {'C': 50, 'gamma': 1}\n",
      "Accuracy: 0.851 for {'C': 50, 'gamma': 10}\n",
      "Accuracy: 0.846 for {'C': 50, 'gamma': 50}\n",
      "Accuracy: 0.845 for {'C': 50, 'gamma': 100}\n",
      "Accuracy: 0.844 for {'C': 50, 'gamma': 200}\n",
      "Accuracy: 0.844 for {'C': 50, 'gamma': 500}\n",
      "Accuracy: 0.843 for {'C': 50, 'gamma': 1000}\n",
      "Accuracy: 0.958 for {'C': 100, 'gamma': 0.1}\n",
      "Accuracy: 0.870 for {'C': 100, 'gamma': 1}\n",
      "Accuracy: 0.851 for {'C': 100, 'gamma': 10}\n",
      "Accuracy: 0.846 for {'C': 100, 'gamma': 50}\n",
      "Accuracy: 0.845 for {'C': 100, 'gamma': 100}\n",
      "Accuracy: 0.844 for {'C': 100, 'gamma': 200}\n",
      "Accuracy: 0.844 for {'C': 100, 'gamma': 500}\n",
      "Accuracy: 0.843 for {'C': 100, 'gamma': 1000}\n",
      "Accuracy: 0.958 for {'C': 200, 'gamma': 0.1}\n",
      "Accuracy: 0.870 for {'C': 200, 'gamma': 1}\n",
      "Accuracy: 0.851 for {'C': 200, 'gamma': 10}\n",
      "Accuracy: 0.846 for {'C': 200, 'gamma': 50}\n",
      "Accuracy: 0.845 for {'C': 200, 'gamma': 100}\n",
      "Accuracy: 0.844 for {'C': 200, 'gamma': 200}\n",
      "Accuracy: 0.844 for {'C': 200, 'gamma': 500}\n",
      "Accuracy: 0.843 for {'C': 200, 'gamma': 1000}\n",
      "Accuracy: 0.958 for {'C': 500, 'gamma': 0.1}\n",
      "Accuracy: 0.870 for {'C': 500, 'gamma': 1}\n",
      "Accuracy: 0.851 for {'C': 500, 'gamma': 10}\n",
      "Accuracy: 0.846 for {'C': 500, 'gamma': 50}\n",
      "Accuracy: 0.845 for {'C': 500, 'gamma': 100}\n",
      "Accuracy: 0.844 for {'C': 500, 'gamma': 200}\n",
      "Accuracy: 0.844 for {'C': 500, 'gamma': 500}\n",
      "Accuracy: 0.843 for {'C': 500, 'gamma': 1000}\n",
      "Accuracy: 0.958 for {'C': 1000, 'gamma': 0.1}\n",
      "Accuracy: 0.870 for {'C': 1000, 'gamma': 1}\n",
      "Accuracy: 0.851 for {'C': 1000, 'gamma': 10}\n",
      "Accuracy: 0.846 for {'C': 1000, 'gamma': 50}\n",
      "Accuracy: 0.845 for {'C': 1000, 'gamma': 100}\n",
      "Accuracy: 0.844 for {'C': 1000, 'gamma': 200}\n",
      "Accuracy: 0.844 for {'C': 1000, 'gamma': 500}\n",
      "Accuracy: 0.843 for {'C': 1000, 'gamma': 1000}\n"
     ]
    }
   ],
   "source": [
    "\n",
    "from sklearn import svm\n",
    "from sklearn.model_selection import GridSearchCV\n",
    "\n",
    "# define the SVM model with RBF kernel\n",
    "svm_model = svm.SVC(kernel='rbf')\n",
    "\n",
    "# define the range of values to search over\n",
    "param_grid = {'C': [0.1, 1, 10, 50,100,200,500,1000], 'gamma': [0.1, 1, 10,50, 100,200,500,1000]}\n",
    "\n",
    "# perform grid search with 5-fold cross-validation\n",
    "grid_search = GridSearchCV(svm_model, param_grid, cv=5)\n",
    "\n",
    "# fit the grid search on the training data\n",
    "grid_search.fit(X_train, y_train)\n",
    "\n",
    "# get the results of the grid search\n",
    "results = grid_search.cv_results_\n",
    "\n",
    "# print the accuracies for each hyperparameter combination\n",
    "for mean_score, params in zip(results['mean_test_score'], results['params']):\n",
    "    print(\"Accuracy: %0.3f for %r\" % (mean_score, params))\n"
   ]
  },
  {
   "cell_type": "code",
   "execution_count": 47,
   "id": "0496af9b",
   "metadata": {},
   "outputs": [],
   "source": [
    "svm1 = SVC(kernel = 'rbf', C = 50,gamma=0.1)"
   ]
  },
  {
   "cell_type": "code",
   "execution_count": 48,
   "id": "a722797b",
   "metadata": {},
   "outputs": [
    {
     "data": {
      "text/plain": [
       "SVC(C=50, gamma=0.1)"
      ]
     },
     "execution_count": 48,
     "metadata": {},
     "output_type": "execute_result"
    }
   ],
   "source": [
    "svm1.fit(X_train, y_train)"
   ]
  },
  {
   "cell_type": "code",
   "execution_count": 49,
   "id": "5cc90cd2",
   "metadata": {},
   "outputs": [],
   "source": [
    "svm_pred_rbf1 = svm1.predict(X_test)"
   ]
  },
  {
   "cell_type": "code",
   "execution_count": 50,
   "id": "ee6444cd",
   "metadata": {},
   "outputs": [
    {
     "data": {
      "text/plain": [
       "0.9562899786780383"
      ]
     },
     "execution_count": 50,
     "metadata": {},
     "output_type": "execute_result"
    }
   ],
   "source": [
    "accuracy_score(y_test, svm_pred_rbf1)\n"
   ]
  },
  {
   "cell_type": "code",
   "execution_count": 51,
   "id": "5441beac",
   "metadata": {},
   "outputs": [
    {
     "data": {
      "text/plain": [
       "array([[772,   9],\n",
       "       [ 32, 125]], dtype=int64)"
      ]
     },
     "execution_count": 51,
     "metadata": {},
     "output_type": "execute_result"
    }
   ],
   "source": [
    "cm1 = confusion_matrix(y_test, svm_pred_rbf1)\n",
    "cm1"
   ]
  },
  {
   "cell_type": "code",
   "execution_count": 52,
   "id": "f5b4bf35",
   "metadata": {
    "scrolled": true
   },
   "outputs": [
    {
     "data": {
      "image/png": "[encoded data removed]",
      "text/plain": [
       "<Figure size 1080x576 with 2 Axes>"
      ]
     },
     "metadata": {
      "needs_background": "light"
     },
     "output_type": "display_data"
    }
   ],
   "source": [
    "plt.figure(figsize = (15,8))\n",
    "sns.heatmap(cm1, annot = True, fmt = 'd', cmap = \"Blues\")\n",
    "plt.xlabel(\"Predicted \")\n",
    "plt.ylabel(\"Actual\")\n",
    "plt.title('RBF kernal SVM for 50 cost value')\n",
    "plt.show()"
   ]
  },
  {
   "cell_type": "code",
   "execution_count": 53,
   "id": "47a82c1b",
   "metadata": {},
   "outputs": [],
   "source": [
    "svm2 = SVC(kernel = 'rbf', C = 300)\n",
    "svm2.fit(X_train, y_train)\n",
    "svm_pred_rbf2 = svm2.predict(X_test)"
   ]
  },
  {
   "cell_type": "code",
   "execution_count": 54,
   "id": "9cf6e372",
   "metadata": {},
   "outputs": [
    {
     "data": {
      "text/plain": [
       "0.9712153518123667"
      ]
     },
     "execution_count": 54,
     "metadata": {},
     "output_type": "execute_result"
    }
   ],
   "source": [
    "accuracy_score(y_test, svm_pred_rbf2)\n"
   ]
  },
  {
   "cell_type": "code",
   "execution_count": 55,
   "id": "6e214af6",
   "metadata": {},
   "outputs": [
    {
     "data": {
      "text/plain": [
       "array([[777,   4],\n",
       "       [ 23, 134]], dtype=int64)"
      ]
     },
     "execution_count": 55,
     "metadata": {},
     "output_type": "execute_result"
    }
   ],
   "source": [
    "svm_pred_rbf2 = svm2.predict(X_test)\n",
    "cm2 = confusion_matrix(y_test, svm_pred_rbf2)\n",
    "cm2"
   ]
  },
  {
   "cell_type": "code",
   "execution_count": 56,
   "id": "4a3c425d",
   "metadata": {},
   "outputs": [
    {
     "data": {
      "image/png": "[encoded data removed]",
      "text/plain": [
       "<Figure size 1080x576 with 2 Axes>"
      ]
     },
     "metadata": {
      "needs_background": "light"
     },
     "output_type": "display_data"
    }
   ],
   "source": [
    "plt.figure(figsize = (15,8))\n",
    "sns.heatmap(cm2, annot = True, fmt = 'd', cmap = \"Blues\")\n",
    "plt.xlabel(\"Predicted \")\n",
    "plt.ylabel(\"Actual \")\n",
    "plt.title('RBF kernal SVM for 300 cost value')\n",
    "plt.show()"
   ]
  },
  {
   "cell_type": "code",
   "execution_count": 57,
   "id": "7076c28a",
   "metadata": {},
   "outputs": [
    {
     "data": {
      "text/plain": [
       "0.8763326226012793"
      ]
     },
     "execution_count": 57,
     "metadata": {},
     "output_type": "execute_result"
    }
   ],
   "source": [
    "svm3 = SVC(kernel = 'rbf', C = 0.1)\n",
    "svm3.fit(X_train, y_train)\n",
    "svm_pred_rbf3 = svm3.predict(X_test)\n",
    "accuracy_score(y_test, svm_pred_rbf3)\n"
   ]
  },
  {
   "cell_type": "code",
   "execution_count": 58,
   "id": "1ceccee5",
   "metadata": {},
   "outputs": [
    {
     "data": {
      "text/plain": [
       "array([[780,   1],\n",
       "       [115,  42]], dtype=int64)"
      ]
     },
     "execution_count": 58,
     "metadata": {},
     "output_type": "execute_result"
    }
   ],
   "source": [
    "svm_pred_rbf3 = svm3.predict(X_test)\n",
    "cm3 = confusion_matrix(y_test, svm_pred_rbf3)\n",
    "cm3"
   ]
  },
  {
   "cell_type": "code",
   "execution_count": 59,
   "id": "0d85ec42",
   "metadata": {},
   "outputs": [
    {
     "data": {
      "image/png": "[encoded data removed]",
      "text/plain": [
       "<Figure size 1080x576 with 2 Axes>"
      ]
     },
     "metadata": {
      "needs_background": "light"
     },
     "output_type": "display_data"
    }
   ],
   "source": [
    "plt.figure(figsize = (15,8))\n",
    "sns.heatmap(cm3, annot = True, fmt = 'd', cmap = \"Blues\")\n",
    "plt.xlabel(\"Predicted \")\n",
    "plt.ylabel(\"Actual \")\n",
    "plt.title('RBF kernal SVM for 0.1 cost value')\n",
    "plt.show()"
   ]
  },
  {
   "cell_type": "markdown",
   "id": "38ef5c2c",
   "metadata": {},
   "source": [
    "#Polynomial "
   ]
  },
  {
   "cell_type": "code",
   "execution_count": 60,
   "id": "652d5ab6",
   "metadata": {},
   "outputs": [
    {
     "name": "stdout",
     "output_type": "stream",
     "text": [
      "Accuracy: 0.842 for {'C': 0.1, 'degree': 2}\n",
      "Accuracy: 0.856 for {'C': 0.1, 'degree': 3}\n",
      "Accuracy: 0.852 for {'C': 0.1, 'degree': 4}\n",
      "Accuracy: 0.855 for {'C': 0.1, 'degree': 5}\n",
      "Accuracy: 0.853 for {'C': 0.1, 'degree': 6}\n",
      "Accuracy: 0.853 for {'C': 0.1, 'degree': 7}\n",
      "Accuracy: 0.900 for {'C': 1, 'degree': 2}\n",
      "Accuracy: 0.910 for {'C': 1, 'degree': 3}\n",
      "Accuracy: 0.881 for {'C': 1, 'degree': 4}\n",
      "Accuracy: 0.876 for {'C': 1, 'degree': 5}\n",
      "Accuracy: 0.869 for {'C': 1, 'degree': 6}\n",
      "Accuracy: 0.865 for {'C': 1, 'degree': 7}\n",
      "Accuracy: 0.942 for {'C': 10, 'degree': 2}\n",
      "Accuracy: 0.933 for {'C': 10, 'degree': 3}\n",
      "Accuracy: 0.918 for {'C': 10, 'degree': 4}\n",
      "Accuracy: 0.906 for {'C': 10, 'degree': 5}\n",
      "Accuracy: 0.886 for {'C': 10, 'degree': 6}\n",
      "Accuracy: 0.881 for {'C': 10, 'degree': 7}\n",
      "Accuracy: 0.956 for {'C': 50, 'degree': 2}\n",
      "Accuracy: 0.936 for {'C': 50, 'degree': 3}\n",
      "Accuracy: 0.929 for {'C': 50, 'degree': 4}\n",
      "Accuracy: 0.913 for {'C': 50, 'degree': 5}\n",
      "Accuracy: 0.901 for {'C': 50, 'degree': 6}\n",
      "Accuracy: 0.895 for {'C': 50, 'degree': 7}\n",
      "Accuracy: 0.961 for {'C': 100, 'degree': 2}\n",
      "Accuracy: 0.934 for {'C': 100, 'degree': 3}\n",
      "Accuracy: 0.931 for {'C': 100, 'degree': 4}\n",
      "Accuracy: 0.917 for {'C': 100, 'degree': 5}\n",
      "Accuracy: 0.902 for {'C': 100, 'degree': 6}\n",
      "Accuracy: 0.894 for {'C': 100, 'degree': 7}\n",
      "Accuracy: 0.968 for {'C': 200, 'degree': 2}\n",
      "Accuracy: 0.930 for {'C': 200, 'degree': 3}\n",
      "Accuracy: 0.935 for {'C': 200, 'degree': 4}\n",
      "Accuracy: 0.913 for {'C': 200, 'degree': 5}\n",
      "Accuracy: 0.905 for {'C': 200, 'degree': 6}\n",
      "Accuracy: 0.895 for {'C': 200, 'degree': 7}\n",
      "Accuracy: 0.965 for {'C': 500, 'degree': 2}\n",
      "Accuracy: 0.925 for {'C': 500, 'degree': 3}\n",
      "Accuracy: 0.932 for {'C': 500, 'degree': 4}\n",
      "Accuracy: 0.910 for {'C': 500, 'degree': 5}\n",
      "Accuracy: 0.908 for {'C': 500, 'degree': 6}\n",
      "Accuracy: 0.898 for {'C': 500, 'degree': 7}\n",
      "Accuracy: 0.967 for {'C': 1000, 'degree': 2}\n",
      "Accuracy: 0.918 for {'C': 1000, 'degree': 3}\n",
      "Accuracy: 0.929 for {'C': 1000, 'degree': 4}\n",
      "Accuracy: 0.903 for {'C': 1000, 'degree': 5}\n",
      "Accuracy: 0.908 for {'C': 1000, 'degree': 6}\n",
      "Accuracy: 0.892 for {'C': 1000, 'degree': 7}\n"
     ]
    }
   ],
   "source": [
    "from sklearn import svm\n",
    "from sklearn.model_selection import GridSearchCV\n",
    "\n",
    "# define the SVM model with polynomial kernel\n",
    "svm_model = svm.SVC(kernel='poly')\n",
    "\n",
    "# define the range of values to search over\n",
    "param_grid = {'C': [0.1, 1, 10,50,100,200,500,1000], 'degree': [2, 3, 4, 5,6,7]}\n",
    "\n",
    "# perform grid search with 5-fold cross-validation\n",
    "grid_search = GridSearchCV(svm_model, param_grid, cv=5)\n",
    "\n",
    "# fit the grid search on the training data\n",
    "grid_search.fit(X_train, y_train)\n",
    "\n",
    "# get the results of the grid search\n",
    "results = grid_search.cv_results_\n",
    "\n",
    "# print the accuracies for each hyperparameter combination\n",
    "for mean_score, params in zip(results['mean_test_score'], results['params']):\n",
    "    print(\"Accuracy: %0.3f for %r\" % (mean_score, params))\n"
   ]
  },
  {
   "cell_type": "code",
   "execution_count": 103,
   "id": "7d0ed3f3",
   "metadata": {},
   "outputs": [
    {
     "data": {
      "text/plain": [
       "SVC(kernel='poly')"
      ]
     },
     "execution_count": 103,
     "metadata": {},
     "output_type": "execute_result"
    }
   ],
   "source": [
    "svm_poly = SVC(kernel = 'poly')\n",
    "svm_poly.fit(X_train,y_train)"
   ]
  },
  {
   "cell_type": "code",
   "execution_count": 104,
   "id": "44a8e601",
   "metadata": {},
   "outputs": [
    {
     "data": {
      "text/plain": [
       "array([[776,   5],\n",
       "       [ 84,  73]], dtype=int64)"
      ]
     },
     "execution_count": 104,
     "metadata": {},
     "output_type": "execute_result"
    }
   ],
   "source": [
    "svm_poly_pred = svm_poly.predict(X_test)\n",
    "cm = confusion_matrix(y_test, svm_poly_pred)\n",
    "cm"
   ]
  },
  {
   "cell_type": "code",
   "execution_count": 105,
   "id": "63a466ec",
   "metadata": {},
   "outputs": [
    {
     "data": {
      "image/png": "[encoded data removed]",
      "text/plain": [
       "<Figure size 1080x576 with 2 Axes>"
      ]
     },
     "metadata": {
      "needs_background": "light"
     },
     "output_type": "display_data"
    }
   ],
   "source": [
    "plt.figure(figsize = (15,8))\n",
    "sns.heatmap(cm, annot = True, fmt = 'd', cmap = \"Blues\")\n",
    "plt.xlabel(\"Predicted \")\n",
    "plt.ylabel(\"Actual \")\n",
    "plt.title('Polynomial kernal SVM for 1 cost value')\n",
    "plt.show()"
   ]
  },
  {
   "cell_type": "code",
   "execution_count": 106,
   "id": "0a37fc13",
   "metadata": {},
   "outputs": [
    {
     "data": {
      "text/plain": [
       "0.9051172707889126"
      ]
     },
     "execution_count": 106,
     "metadata": {},
     "output_type": "execute_result"
    }
   ],
   "source": [
    "accuracy_score(y_test, svm_poly_pred)\n"
   ]
  },
  {
   "cell_type": "code",
   "execution_count": 66,
   "id": "a1aeafd1",
   "metadata": {},
   "outputs": [],
   "source": [
    "svm_poly = SVC(kernel = 'poly', C = 125)"
   ]
  },
  {
   "cell_type": "code",
   "execution_count": 67,
   "id": "8b81e924",
   "metadata": {},
   "outputs": [
    {
     "data": {
      "text/plain": [
       "SVC(C=125, kernel='poly')"
      ]
     },
     "execution_count": 67,
     "metadata": {},
     "output_type": "execute_result"
    }
   ],
   "source": [
    "svm_poly.fit(X_train,y_train)"
   ]
  },
  {
   "cell_type": "code",
   "execution_count": 68,
   "id": "23e1003e",
   "metadata": {},
   "outputs": [],
   "source": [
    "svm_poly_pred_1 = svm_poly.predict(X_test)\n"
   ]
  },
  {
   "cell_type": "code",
   "execution_count": 69,
   "id": "a728b6de",
   "metadata": {},
   "outputs": [
    {
     "data": {
      "text/plain": [
       "array([[765,  16],\n",
       "       [ 39, 118]], dtype=int64)"
      ]
     },
     "execution_count": 69,
     "metadata": {},
     "output_type": "execute_result"
    }
   ],
   "source": [
    "cm = confusion_matrix(y_test, svm_poly_pred_1)\n",
    "cm"
   ]
  },
  {
   "cell_type": "code",
   "execution_count": 70,
   "id": "89512bd8",
   "metadata": {
    "scrolled": true
   },
   "outputs": [
    {
     "data": {
      "image/png": "[encoded data removed]",
      "text/plain": [
       "<Figure size 1080x576 with 2 Axes>"
      ]
     },
     "metadata": {
      "needs_background": "light"
     },
     "output_type": "display_data"
    }
   ],
   "source": [
    "plt.figure(figsize = (15,8))\n",
    "sns.heatmap(cm, annot = True, fmt = 'd', cmap = \"Blues\")\n",
    "plt.xlabel(\"Predicted \")\n",
    "plt.ylabel(\"Actual \")\n",
    "plt.title('Polynomial kernal SVM for 125 cost value')\n",
    "plt.show()"
   ]
  },
  {
   "cell_type": "code",
   "execution_count": 71,
   "id": "3e3f99d9",
   "metadata": {},
   "outputs": [
    {
     "data": {
      "text/plain": [
       "0.94136460554371"
      ]
     },
     "execution_count": 71,
     "metadata": {},
     "output_type": "execute_result"
    }
   ],
   "source": [
    "accuracy_score(y_test, svm_poly_pred_1)\n"
   ]
  },
  {
   "cell_type": "code",
   "execution_count": 72,
   "id": "ca398258",
   "metadata": {},
   "outputs": [],
   "source": [
    "svm_poly = SVC(kernel = 'poly', C = 340)\n"
   ]
  },
  {
   "cell_type": "code",
   "execution_count": 73,
   "id": "ca0b08ca",
   "metadata": {},
   "outputs": [
    {
     "data": {
      "text/plain": [
       "SVC(C=340, kernel='poly')"
      ]
     },
     "execution_count": 73,
     "metadata": {},
     "output_type": "execute_result"
    }
   ],
   "source": [
    "svm_poly.fit(X_train,y_train)\n"
   ]
  },
  {
   "cell_type": "code",
   "execution_count": 74,
   "id": "a24b27c2",
   "metadata": {},
   "outputs": [],
   "source": [
    "svm_poly_pred_2 = svm_poly.predict(X_test)\n"
   ]
  },
  {
   "cell_type": "code",
   "execution_count": 75,
   "id": "e5fd0c4d",
   "metadata": {},
   "outputs": [
    {
     "data": {
      "text/plain": [
       "array([[767,  14],\n",
       "       [ 36, 121]], dtype=int64)"
      ]
     },
     "execution_count": 75,
     "metadata": {},
     "output_type": "execute_result"
    }
   ],
   "source": [
    "cm = confusion_matrix(y_test, svm_poly_pred_2)\n",
    "cm"
   ]
  },
  {
   "cell_type": "code",
   "execution_count": 76,
   "id": "7b0f491e",
   "metadata": {
    "scrolled": true
   },
   "outputs": [
    {
     "data": {
      "image/png": "[encoded data removed]",
      "text/plain": [
       "<Figure size 1080x576 with 2 Axes>"
      ]
     },
     "metadata": {
      "needs_background": "light"
     },
     "output_type": "display_data"
    }
   ],
   "source": [
    "plt.figure(figsize = (15,8))\n",
    "sns.heatmap(cm, annot = True, fmt = 'd', cmap = \"Blues\")\n",
    "plt.xlabel(\"Predicted Species\")\n",
    "plt.ylabel(\"Actual Species\")\n",
    "plt.title('Polynomial kernal SVM for 340 cost value')\n",
    "plt.show()"
   ]
  },
  {
   "cell_type": "code",
   "execution_count": 77,
   "id": "2f9e3303",
   "metadata": {},
   "outputs": [
    {
     "data": {
      "text/plain": [
       "0.9466950959488273"
      ]
     },
     "execution_count": 77,
     "metadata": {},
     "output_type": "execute_result"
    }
   ],
   "source": [
    "accuracy_score(y_test, svm_poly_pred_2)\n"
   ]
  }
 ],
 "metadata": {
  "kernelspec": {
   "display_name": "Python 3 (ipykernel)",
   "language": "python",
   "name": "python3"
  },
  "language_info": {
   "codemirror_mode": {
    "name": "ipython",
    "version": 3
   },
   "file_extension": ".py",
   "mimetype": "text/x-python",
   "name": "python",
   "nbconvert_exporter": "python",
   "pygments_lexer": "ipython3",
   "version": "3.9.12"
  }
 },
 "nbformat": 4,
 "nbformat_minor": 5
}
